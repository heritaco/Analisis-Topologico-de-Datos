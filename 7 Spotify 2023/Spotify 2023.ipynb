{
 "cells": [
  {
   "cell_type": "markdown",
   "metadata": {},
   "source": [
    "# Spotify 2023"
   ]
  },
  {
   "cell_type": "markdown",
   "metadata": {},
   "source": [
    "Vamos a hacer un analizis de las mas movidas y de los generos"
   ]
  },
  {
   "cell_type": "markdown",
   "metadata": {},
   "source": [
    "#### Importamos los datos\n",
    "\n",
    "datos de https://www.kaggle.com/datasets/nelgiriyewithana/top-spotify-songs-2023\n",
    "\n",
    "Description :\n",
    "This dataset contains a comprehensive list of the most famous songs of 2023 as listed on Spotify. The dataset offers a wealth of features beyond what is typically available in similar datasets. It provides insights into each song's attributes, popularity, and presence on various music platforms. The dataset includes information such as track name, artist(s) name, release date, Spotify playlists and charts, streaming statistics, Apple Music presence, Deezer presence, Shazam charts, and various audio features.\n",
    "\n",
    "Key Features:\n",
    "track_name: Name of the song\n",
    "artist(s)_name: Name of the artist(s) of the song\n",
    "artist_count: Number of artists contributing to the song\n",
    "released_year: Year when the song was released\n",
    "released_month: Month when the song was released\n",
    "released_day: Day of the month when the song was released\n",
    "in_spotify_playlists: Number of Spotify playlists the song is included in\n",
    "in_spotify_charts: Presence and rank of the song on Spotify charts\n",
    "streams: Total number of streams on Spotify\n",
    "in_apple_playlists: Number of Apple Music playlists the song is included in\n",
    "in_apple_charts: Presence and rank of the song on Apple Music charts\n",
    "in_deezer_playlists: Number of Deezer playlists the song is included in\n",
    "in_deezer_charts: Presence and rank of the song on Deezer charts\n",
    "in_shazam_charts: Presence and rank of the song on Shazam charts\n",
    "bpm: Beats per minute, a measure of song tempo\n",
    "key: Key of the song\n",
    "mode: Mode of the song (major or minor)\n",
    "danceability_%: Percentage indicating how suitable the song is for dancing\n",
    "valence_%: Positivity of the song's musical content\n",
    "energy_%: Perceived energy level of the song\n",
    "acousticness_%: Amount of acoustic sound in the song\n",
    "instrumentalness_%: Amount of instrumental content in the song\n",
    "liveness_%: Presence of live performance elements\n",
    "speechiness_%: Amount of spoken words in the song\n"
   ]
  },
  {
   "cell_type": "code",
   "execution_count": null,
   "metadata": {},
   "outputs": [],
   "source": [
    "import numpy as np\n",
    "\n",
    "def patch_asscalar(a):\n",
    "    return a.item()\n",
    "\n",
    "setattr(np, \"asscalar\", patch_asscalar)\n",
    "import numpy as np\n",
    "import kmapper as km\n",
    "import sklearn\n",
    "from sklearn import ensemble"
   ]
  },
  {
   "cell_type": "code",
   "execution_count": null,
   "metadata": {},
   "outputs": [],
   "source": [
    "import pandas as pd\n",
    "df = pd.read_csv(\"Spotify 2023.csv\", encoding='ISO-8859-1') # encoding='ISO-8859-1' is used to avoid pandas encoding error"
   ]
  },
  {
   "cell_type": "markdown",
   "metadata": {},
   "source": [
    "### Conocemos nuestra db"
   ]
  },
  {
   "cell_type": "code",
   "execution_count": null,
   "metadata": {},
   "outputs": [],
   "source": [
    "df.head(5)"
   ]
  },
  {
   "cell_type": "code",
   "execution_count": null,
   "metadata": {},
   "outputs": [],
   "source": [
    "df.describe()"
   ]
  },
  {
   "cell_type": "markdown",
   "metadata": {},
   "source": [
    "MAXIMO 8 ARTISTAS?!"
   ]
  },
  {
   "cell_type": "code",
   "execution_count": null,
   "metadata": {},
   "outputs": [],
   "source": [
    "df.nlargest(5, 'artist_count')"
   ]
  },
  {
   "cell_type": "markdown",
   "metadata": {},
   "source": [
    "#### Elegimos las columnas con las caracerísticas relevantes."
   ]
  },
  {
   "cell_type": "markdown",
   "metadata": {},
   "source": [
    "Conocemos nuestras columnas."
   ]
  },
  {
   "cell_type": "code",
   "execution_count": null,
   "metadata": {},
   "outputs": [],
   "source": [
    "df.columns"
   ]
  },
  {
   "cell_type": "code",
   "execution_count": null,
   "metadata": {},
   "outputs": [],
   "source": [
    "from sklearn.preprocessing import MinMaxScaler\n",
    "\n",
    "df['bpm'] = MinMaxScaler(feature_range=(10, 90)).fit_transform(df[['bpm']])\n",
    "df['released_year'] = MinMaxScaler(feature_range=(20, 80)).fit_transform(df[['released_year']])\n",
    "df['streams'] = pd.to_numeric(df['streams'], errors='coerce')"
   ]
  },
  {
   "cell_type": "code",
   "execution_count": null,
   "metadata": {},
   "outputs": [],
   "source": [
    "print(df['mode'].unique())"
   ]
  },
  {
   "cell_type": "markdown",
   "metadata": {},
   "source": [
    "Cuando usan el modo menor tienden a ser tristes y con el modo mayor alegres"
   ]
  },
  {
   "cell_type": "code",
   "execution_count": null,
   "metadata": {},
   "outputs": [],
   "source": [
    "df = df.replace({'Major': 51, 'Minor': 49})"
   ]
  },
  {
   "cell_type": "markdown",
   "metadata": {},
   "source": [
    "Vemos el tipo de los datos"
   ]
  },
  {
   "cell_type": "code",
   "execution_count": null,
   "metadata": {},
   "outputs": [],
   "source": [
    "df.dtypes"
   ]
  },
  {
   "cell_type": "markdown",
   "metadata": {},
   "source": [
    "# Visualizar datos"
   ]
  },
  {
   "cell_type": "markdown",
   "metadata": {},
   "source": [
    "Visualizamos los datos"
   ]
  },
  {
   "cell_type": "code",
   "execution_count": null,
   "metadata": {},
   "outputs": [],
   "source": [
    "import seaborn as sns\n",
    "import os\n",
    "import matplotlib.pyplot as plt\n",
    "\n",
    "if not os.path.exists('Pairplot'):\n",
    "    os.makedirs('Pairplot')\n",
    "\n",
    "generos = [\"bpm\", \"danceability_%\", \"valence_%\", \"energy_%\", \"liveness_%\",\n",
    "           \"acousticness_%\", \"instrumentalness_%\", \"speechiness_%\", \"mode\", \"released_year\"]\n",
    "\n",
    "n=500\n",
    "pairplot = sns.pairplot(df.sample(n)[generos], hue = 'bpm', palette= 'viridis')\n",
    "plt.savefig(f'Pairplot/pairplot{n}.png')"
   ]
  },
  {
   "cell_type": "code",
   "execution_count": null,
   "metadata": {},
   "outputs": [],
   "source": [
    "import numpy as np\n",
    "import plotly.graph_objects as go\n",
    "import plotly.io as py\n",
    "import os\n",
    "\n",
    "def create_3d_scatter(x_col, y_col, z_col):\n",
    "    fig = go.Figure(data=[go.Scatter3d(\n",
    "        x=df[x_col],\n",
    "        y=df[y_col],\n",
    "        z=df[z_col],\n",
    "        mode='markers',\n",
    "        marker=dict(\n",
    "            size=3,\n",
    "            color=df[z_col],\n",
    "            colorscale='Viridis',   \n",
    "            opacity=0.5\n",
    "        ),\n",
    "        text=df['track_name'],  \n",
    "        hoverinfo='text'  \n",
    "    )])\n",
    "\n",
    "    title = f'{x_col}, {y_col}, {z_col}'\n",
    "    fig.update_layout(\n",
    "        title=title,\n",
    "        scene = dict(\n",
    "            xaxis = dict(title = x_col, showbackground=False),\n",
    "            yaxis = dict(title = y_col,showbackground=False),\n",
    "            zaxis = dict(title = z_col,showbackground=False),\n",
    "        ),\n",
    "        margin=dict(l=0, r=0, b=0, t=0)\n",
    "    )\n",
    "    \n",
    "    current_dir = os.getcwd()\n",
    "    subfolder = '3D Scatter plot'\n",
    "    filename = os.path.join(current_dir, subfolder, title.replace(' ', '_') + '.html')\n",
    "    os.makedirs(os.path.dirname(filename), exist_ok=True)\n",
    "    py.write_html(fig, filename)\n",
    "\n",
    "    fig.show()"
   ]
  },
  {
   "cell_type": "code",
   "execution_count": null,
   "metadata": {},
   "outputs": [],
   "source": [
    "import numpy as np\n",
    "import plotly.graph_objects as go\n",
    "import plotly.io as py\n",
    "import os\n",
    "\n",
    "def create_3d_scatter_sphere(x_col, y_col, z_col, sphere_center=None, sphere_radius=None):\n",
    "    fig = go.Figure(data=[go.Scatter3d(\n",
    "        x=df[x_col],\n",
    "        y=df[y_col],\n",
    "        z=df[z_col],\n",
    "        mode='markers',\n",
    "        marker=dict(\n",
    "            size=3,\n",
    "            color=df[z_col],\n",
    "            colorscale='Viridis',   \n",
    "            opacity=0.5\n",
    "        ),\n",
    "        text=df['track_name'], \n",
    "        hoverinfo='text'  \n",
    "    )])\n",
    "\n",
    "    if sphere_center is not None and sphere_radius is not None:\n",
    "        sphere = go.Mesh3d(\n",
    "            x=[sphere_center[0] + sphere_radius * np.sin(theta) * np.cos(phi) for theta in np.linspace(0, 2*np.pi, 100) for phi in np.linspace(0, np.pi, 100)],\n",
    "            y=[sphere_center[1] + sphere_radius * np.sin(theta) * np.sin(phi) for theta in np.linspace(0, 2*np.pi, 100) for phi in np.linspace(0, np.pi, 100)],\n",
    "            z=[sphere_center[2] + sphere_radius * np.cos(theta) for theta in np.linspace(0, 2*np.pi, 100) for phi in np.linspace(0, np.pi, 100)],\n",
    "            opacity=0.01,\n",
    "            color='red'\n",
    "        )\n",
    "        fig.add_trace(sphere)\n",
    "\n",
    "    title = f'{x_col}, {y_col}, {z_col}'\n",
    "    fig.update_layout(\n",
    "        title=title,\n",
    "        scene = dict(\n",
    "            xaxis = dict(title = x_col, showbackground=False),\n",
    "            yaxis = dict(title = y_col,showbackground=False),\n",
    "            zaxis = dict(title = z_col,showbackground=False),\n",
    "        ),\n",
    "        margin=dict(l=0, r=0, b=0, t=0)\n",
    "    )\n",
    "    \n",
    "    current_dir = os.getcwd()\n",
    "    subfolder = '3D Scatter plot ball'\n",
    "    filename = os.path.join(current_dir, subfolder, title.replace(' ', '_') + '.html')\n",
    "    os.makedirs(os.path.dirname(filename), exist_ok=True)\n",
    "    py.write_html(fig, filename)\n",
    "\n",
    "    fig.show()"
   ]
  },
  {
   "cell_type": "markdown",
   "metadata": {},
   "source": [
    "Los puntos mas negativos son, personas de edad corta, que deben mucho, tienen poco salario base mensual :c y viceversa"
   ]
  },
  {
   "cell_type": "markdown",
   "metadata": {},
   "source": [
    "# Más movidas "
   ]
  },
  {
   "cell_type": "markdown",
   "metadata": {},
   "source": [
    "Para conocer las canciones más movidas y las más lentas"
   ]
  },
  {
   "cell_type": "code",
   "execution_count": null,
   "metadata": {},
   "outputs": [],
   "source": [
    "create_3d_scatter('energy_%', 'bpm', 'danceability_%')"
   ]
  },
  {
   "cell_type": "code",
   "execution_count": null,
   "metadata": {},
   "outputs": [],
   "source": [
    "create_3d_scatter_sphere('energy_%', 'bpm', 'danceability_%', sphere_center=[75, 75, 75], sphere_radius=10)"
   ]
  },
  {
   "cell_type": "code",
   "execution_count": null,
   "metadata": {},
   "outputs": [],
   "source": [
    "masmovidas = ['energy_%', 'bpm', 'danceability_%']\n",
    "MasMovidas = np.array(df[masmovidas])\n",
    "TrackName = np.array(df['track_name'])"
   ]
  },
  {
   "cell_type": "code",
   "execution_count": null,
   "metadata": {},
   "outputs": [],
   "source": [
    "mapper = km.KeplerMapper(verbose=3)"
   ]
  },
  {
   "cell_type": "markdown",
   "metadata": {},
   "source": [
    "#### DBSCAN"
   ]
  },
  {
   "cell_type": "code",
   "execution_count": null,
   "metadata": {},
   "outputs": [],
   "source": [
    "import os\n",
    "\n",
    "eps = 20\n",
    "min_samples = 1\n",
    "n_cubes = 20\n",
    "perc_overlap = .35\n",
    "\n",
    "lens = mapper.fit_transform(MasMovidas, projection=\"l2norm\")\n",
    "\n",
    "\n",
    "graph = mapper.map(\n",
    "    lens,\n",
    "    MasMovidas,\n",
    "    clusterer=sklearn.cluster.DBSCAN(eps=eps, min_samples=min_samples),\n",
    "    cover=km.Cover(n_cubes=n_cubes, perc_overlap=perc_overlap),\n",
    ")\n",
    "\n",
    "current_dir = os.getcwd()\n",
    "subfolder = 'Más Movidas/DBSCAN'\n",
    "filename = os.path.join(current_dir, subfolder, f\"l2norm_eps{eps},min_samples{min_samples},n_cubes{n_cubes},perc_overlap{perc_overlap}.html\")\n",
    "os.makedirs(os.path.dirname(filename), exist_ok=True)\n",
    "mapper.visualize(graph,\n",
    "                 path_html=filename,\n",
    "                 custom_tooltips=TrackName,\n",
    "                 title=f\"Más movidas eps{eps},min_samples{min_samples},n_cubes{n_cubes},perc_overlap{perc_overlap}\")"
   ]
  },
  {
   "cell_type": "markdown",
   "metadata": {},
   "source": [
    "# Más Parecidas"
   ]
  },
  {
   "cell_type": "markdown",
   "metadata": {},
   "source": [
    "Para los genereos usamos más variables"
   ]
  },
  {
   "cell_type": "code",
   "execution_count": null,
   "metadata": {},
   "outputs": [],
   "source": [
    "generos = [\"bpm\", \"danceability_%\", \"valence_%\", \"energy_%\", \"liveness_%\",\n",
    "           \"acousticness_%\", \"instrumentalness_%\", \"speechiness_%\", \"mode\", \"released_year\"]\n",
    "\n",
    "Generos = np.array(df[generos])\n",
    "TrackName = np.array(df['track_name'])"
   ]
  },
  {
   "cell_type": "code",
   "execution_count": null,
   "metadata": {},
   "outputs": [],
   "source": [
    "print(df[generos].dtypes)"
   ]
  },
  {
   "cell_type": "code",
   "execution_count": null,
   "metadata": {},
   "outputs": [],
   "source": [
    "mapper = km.KeplerMapper(verbose=3)"
   ]
  },
  {
   "cell_type": "markdown",
   "metadata": {},
   "source": [
    "#### K Means"
   ]
  },
  {
   "cell_type": "markdown",
   "metadata": {},
   "source": [
    "Hacemos la prueba del codo para conocer cuantos clusters vamos a usar"
   ]
  },
  {
   "cell_type": "code",
   "execution_count": null,
   "metadata": {},
   "outputs": [],
   "source": [
    "from sklearn.cluster import KMeans\n",
    "import matplotlib.pyplot as plt\n",
    "\n",
    "data = df[generos]\n",
    "\n",
    "wss = []\n",
    "for i in range(1, 16):\n",
    "    kmeans = KMeans(n_clusters=i, init='k-means++', max_iter=300, n_init=10, random_state=0)\n",
    "    kmeans.fit(data)\n",
    "    wss.append(kmeans.inertia_)\n",
    "\n",
    "plt.figure(facecolor=(33/255, 33/255, 33/255))\n",
    "plt.gca().set_facecolor((33/255, 33/255, 33/255))\n",
    "plt.plot(range(1, 16), wss, color='white')\n",
    "plt.title('Elbow Method', color='white')\n",
    "plt.xlabel('Number of clusters', color='white')\n",
    "plt.ylabel('WSS', color='white')\n",
    "plt.tick_params(colors='white')\n",
    "plt.show()"
   ]
  },
  {
   "cell_type": "code",
   "execution_count": null,
   "metadata": {},
   "outputs": [],
   "source": [
    "import os\n",
    "\n",
    "lens = mapper.fit_transform(Generos, projection=\"l2norm\")\n",
    "\n",
    "n_clusters = 8\n",
    "n_cubes = 50\n",
    "perc_overlap = .7\n",
    "\n",
    "graph = mapper.map(\n",
    "    lens,\n",
    "    Generos,\n",
    "    clusterer=sklearn.cluster.KMeans(n_clusters=n_clusters, random_state=11),\n",
    "    cover=km.Cover(n_cubes=n_cubes, perc_overlap=perc_overlap),\n",
    ")\n",
    "\n",
    "current_dir = os.getcwd()\n",
    "subfolder = 'Más Parecidas/K Means'\n",
    "filename = os.path.join(current_dir, subfolder, f\"l2_clusters{n_clusters},n_cubes{n_cubes},perc_overlap{perc_overlap}.html\")\n",
    "os.makedirs(os.path.dirname(filename), exist_ok=True)\n",
    "mapper.visualize(graph,\n",
    "                 path_html=filename,\n",
    "                 custom_tooltips=TrackName,\n",
    "                 title=f\"n_clusters{n_clusters},n_cubes{n_cubes},perc_overlap{perc_overlap}\")"
   ]
  }
 ],
 "metadata": {
  "kernelspec": {
   "display_name": "Python 3 (ipykernel)",
   "language": "python",
   "name": "python3"
  },
  "language_info": {
   "codemirror_mode": {
    "name": "ipython",
    "version": 3
   },
   "file_extension": ".py",
   "mimetype": "text/x-python",
   "name": "python",
   "nbconvert_exporter": "python",
   "pygments_lexer": "ipython3",
   "version": "3.12.1"
  }
 },
 "nbformat": 4,
 "nbformat_minor": 4
}
