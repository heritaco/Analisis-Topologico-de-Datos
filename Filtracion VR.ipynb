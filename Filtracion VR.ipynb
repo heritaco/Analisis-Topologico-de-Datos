{
 "cells": [
  {
   "cell_type": "code",
   "execution_count": 1,
   "metadata": {},
   "outputs": [],
   "source": [
    "import numpy as np\n",
    "\n",
    "def distance(point1, point2, p):\n",
    "    return np.power(np.sum(np.power(np.abs(point1 - point2), p)), 1/p)"
   ]
  },
  {
   "cell_type": "markdown",
   "metadata": {},
   "source": [
    "$$\n",
    "\\left( \\sum_{i=1}^{n} |x_{i} - x_{j}|^p \\right)^{\\frac{1}{p}}\n",
    "$$\n"
   ]
  },
  {
   "cell_type": "code",
   "execution_count": 2,
   "metadata": {},
   "outputs": [],
   "source": [
    "def calculate_distance_matrix(dataset, p):\n",
    "    distance_matrix = np.zeros((dataset.shape[0], dataset.shape[0]))\n",
    "    for i in range(dataset.shape[0]):\n",
    "        for j in range(dataset.shape[0]):\n",
    "            distance_matrix[i, j] = distance(dataset[i], dataset[j], p)\n",
    "    return distance_matrix"
   ]
  },
  {
   "cell_type": "code",
   "execution_count": 3,
   "metadata": {},
   "outputs": [
    {
     "name": "stdout",
     "output_type": "stream",
     "text": [
      "[[0.         2.82842712 5.65685425]\n",
      " [2.82842712 0.         2.82842712]\n",
      " [5.65685425 2.82842712 0.        ]]\n"
     ]
    }
   ],
   "source": [
    "points = np.array([[1, 2], [3, 4], [5, 6]]) \n",
    "p = 2\n",
    "distance_matrix = calculate_distance_matrix(points, p) \n",
    "print(distance_matrix)"
   ]
  },
  {
   "cell_type": "code",
   "execution_count": 10,
   "metadata": {},
   "outputs": [],
   "source": [
    "def vietoris_rips_filtration(distance_matrix, epsilon):\n",
    "    complex = []\n",
    "\n",
    "    for i in range(distance_matrix.shape[0]):\n",
    "        for j in range(i+1, distance_matrix.shape[0]):\n",
    "            if distance_matrix[i, j] <= epsilon:\n",
    "                complex.append({i, j})\n",
    "\n",
    "    return complex"
   ]
  },
  {
   "cell_type": "code",
   "execution_count": 11,
   "metadata": {},
   "outputs": [
    {
     "name": "stdout",
     "output_type": "stream",
     "text": [
      "Epsilon 10: [{0, 1}, {0, 2}, {1, 2}]\n"
     ]
    }
   ],
   "source": [
    "epsilon = 10  \n",
    "complex = vietoris_rips_filtration(distance_matrix, epsilon)\n",
    "print(f\"Epsilon {epsilon}: {complex}\")"
   ]
  }
 ],
 "metadata": {
  "kernelspec": {
   "display_name": "Python 3",
   "language": "python",
   "name": "python3"
  },
  "language_info": {
   "codemirror_mode": {
    "name": "ipython",
    "version": 3
   },
   "file_extension": ".py",
   "mimetype": "text/x-python",
   "name": "python",
   "nbconvert_exporter": "python",
   "pygments_lexer": "ipython3",
   "version": "3.12.1"
  }
 },
 "nbformat": 4,
 "nbformat_minor": 2
}
