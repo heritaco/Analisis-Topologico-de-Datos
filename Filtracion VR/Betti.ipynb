{
 "cells": [
  {
   "cell_type": "markdown",
   "metadata": {},
   "source": [
    "# Filtración VR"
   ]
  },
  {
   "cell_type": "code",
   "execution_count": 1,
   "metadata": {},
   "outputs": [],
   "source": [
    "import numpy as np\n",
    "import pandas as pd"
   ]
  },
  {
   "cell_type": "code",
   "execution_count": 16,
   "metadata": {},
   "outputs": [],
   "source": [
    "p = 2\n",
    "epsilon = .01"
   ]
  },
  {
   "cell_type": "code",
   "execution_count": 13,
   "metadata": {},
   "outputs": [
    {
     "data": {
      "application/vnd.plotly.v1+json": {
       "config": {
        "plotlyServerURL": "https://plot.ly"
       },
       "data": [
        {
         "marker": {
          "color": "black",
          "size": 4
         },
         "mode": "markers",
         "type": "scatter3d",
         "x": [
          0.013579,
          0.010493,
          0.020415,
          0.060064,
          0.057849,
          0.060421,
          0.062693,
          0.032816,
          0.026989,
          0.037539,
          0.041639,
          0.063728,
          0.061288,
          0.061621,
          0.064054,
          0.061356,
          0.059843,
          0.057381,
          0.058631,
          0.003053,
          0.002774,
          0.000054,
          0.000101,
          0.002775,
          -0.000016
         ],
         "y": [
          0.215377,
          0.226649,
          0.230665,
          0.241075,
          0.251924,
          0.253476,
          0.243492,
          0.221959,
          0.233526,
          0.239213,
          0.228136,
          0.244642,
          0.255913,
          0.253554,
          0.245605,
          0.241296,
          0.248843,
          0.244103,
          0.236816,
          0.203717,
          0.194943,
          0.194932,
          0.203699,
          0.184867,
          0.185229
         ],
         "z": [
          -0.170891,
          -0.173601,
          -0.175927,
          -0.140388,
          -0.140969,
          -0.126477,
          -0.125203,
          -0.172495,
          -0.174706,
          -0.169297,
          -0.167291,
          -0.094737,
          -0.097883,
          -0.078814,
          -0.07506,
          -0.046068,
          -0.050007,
          -0.04199,
          -0.038629,
          -0.151802,
          -0.131875,
          -0.131864,
          -0.151795,
          -0.100746,
          -0.102104
         ]
        }
       ],
       "layout": {
        "margin": {
         "b": 0,
         "l": 0,
         "r": 0,
         "t": 0
        },
        "scene": {
         "xaxis": {
          "showbackground": false
         },
         "yaxis": {
          "showbackground": false
         },
         "zaxis": {
          "showbackground": false
         }
        },
        "template": {
         "data": {
          "bar": [
           {
            "error_x": {
             "color": "#2a3f5f"
            },
            "error_y": {
             "color": "#2a3f5f"
            },
            "marker": {
             "line": {
              "color": "#E5ECF6",
              "width": 0.5
             },
             "pattern": {
              "fillmode": "overlay",
              "size": 10,
              "solidity": 0.2
             }
            },
            "type": "bar"
           }
          ],
          "barpolar": [
           {
            "marker": {
             "line": {
              "color": "#E5ECF6",
              "width": 0.5
             },
             "pattern": {
              "fillmode": "overlay",
              "size": 10,
              "solidity": 0.2
             }
            },
            "type": "barpolar"
           }
          ],
          "carpet": [
           {
            "aaxis": {
             "endlinecolor": "#2a3f5f",
             "gridcolor": "white",
             "linecolor": "white",
             "minorgridcolor": "white",
             "startlinecolor": "#2a3f5f"
            },
            "baxis": {
             "endlinecolor": "#2a3f5f",
             "gridcolor": "white",
             "linecolor": "white",
             "minorgridcolor": "white",
             "startlinecolor": "#2a3f5f"
            },
            "type": "carpet"
           }
          ],
          "choropleth": [
           {
            "colorbar": {
             "outlinewidth": 0,
             "ticks": ""
            },
            "type": "choropleth"
           }
          ],
          "contour": [
           {
            "colorbar": {
             "outlinewidth": 0,
             "ticks": ""
            },
            "colorscale": [
             [
              0,
              "#0d0887"
             ],
             [
              0.1111111111111111,
              "#46039f"
             ],
             [
              0.2222222222222222,
              "#7201a8"
             ],
             [
              0.3333333333333333,
              "#9c179e"
             ],
             [
              0.4444444444444444,
              "#bd3786"
             ],
             [
              0.5555555555555556,
              "#d8576b"
             ],
             [
              0.6666666666666666,
              "#ed7953"
             ],
             [
              0.7777777777777778,
              "#fb9f3a"
             ],
             [
              0.8888888888888888,
              "#fdca26"
             ],
             [
              1,
              "#f0f921"
             ]
            ],
            "type": "contour"
           }
          ],
          "contourcarpet": [
           {
            "colorbar": {
             "outlinewidth": 0,
             "ticks": ""
            },
            "type": "contourcarpet"
           }
          ],
          "heatmap": [
           {
            "colorbar": {
             "outlinewidth": 0,
             "ticks": ""
            },
            "colorscale": [
             [
              0,
              "#0d0887"
             ],
             [
              0.1111111111111111,
              "#46039f"
             ],
             [
              0.2222222222222222,
              "#7201a8"
             ],
             [
              0.3333333333333333,
              "#9c179e"
             ],
             [
              0.4444444444444444,
              "#bd3786"
             ],
             [
              0.5555555555555556,
              "#d8576b"
             ],
             [
              0.6666666666666666,
              "#ed7953"
             ],
             [
              0.7777777777777778,
              "#fb9f3a"
             ],
             [
              0.8888888888888888,
              "#fdca26"
             ],
             [
              1,
              "#f0f921"
             ]
            ],
            "type": "heatmap"
           }
          ],
          "heatmapgl": [
           {
            "colorbar": {
             "outlinewidth": 0,
             "ticks": ""
            },
            "colorscale": [
             [
              0,
              "#0d0887"
             ],
             [
              0.1111111111111111,
              "#46039f"
             ],
             [
              0.2222222222222222,
              "#7201a8"
             ],
             [
              0.3333333333333333,
              "#9c179e"
             ],
             [
              0.4444444444444444,
              "#bd3786"
             ],
             [
              0.5555555555555556,
              "#d8576b"
             ],
             [
              0.6666666666666666,
              "#ed7953"
             ],
             [
              0.7777777777777778,
              "#fb9f3a"
             ],
             [
              0.8888888888888888,
              "#fdca26"
             ],
             [
              1,
              "#f0f921"
             ]
            ],
            "type": "heatmapgl"
           }
          ],
          "histogram": [
           {
            "marker": {
             "pattern": {
              "fillmode": "overlay",
              "size": 10,
              "solidity": 0.2
             }
            },
            "type": "histogram"
           }
          ],
          "histogram2d": [
           {
            "colorbar": {
             "outlinewidth": 0,
             "ticks": ""
            },
            "colorscale": [
             [
              0,
              "#0d0887"
             ],
             [
              0.1111111111111111,
              "#46039f"
             ],
             [
              0.2222222222222222,
              "#7201a8"
             ],
             [
              0.3333333333333333,
              "#9c179e"
             ],
             [
              0.4444444444444444,
              "#bd3786"
             ],
             [
              0.5555555555555556,
              "#d8576b"
             ],
             [
              0.6666666666666666,
              "#ed7953"
             ],
             [
              0.7777777777777778,
              "#fb9f3a"
             ],
             [
              0.8888888888888888,
              "#fdca26"
             ],
             [
              1,
              "#f0f921"
             ]
            ],
            "type": "histogram2d"
           }
          ],
          "histogram2dcontour": [
           {
            "colorbar": {
             "outlinewidth": 0,
             "ticks": ""
            },
            "colorscale": [
             [
              0,
              "#0d0887"
             ],
             [
              0.1111111111111111,
              "#46039f"
             ],
             [
              0.2222222222222222,
              "#7201a8"
             ],
             [
              0.3333333333333333,
              "#9c179e"
             ],
             [
              0.4444444444444444,
              "#bd3786"
             ],
             [
              0.5555555555555556,
              "#d8576b"
             ],
             [
              0.6666666666666666,
              "#ed7953"
             ],
             [
              0.7777777777777778,
              "#fb9f3a"
             ],
             [
              0.8888888888888888,
              "#fdca26"
             ],
             [
              1,
              "#f0f921"
             ]
            ],
            "type": "histogram2dcontour"
           }
          ],
          "mesh3d": [
           {
            "colorbar": {
             "outlinewidth": 0,
             "ticks": ""
            },
            "type": "mesh3d"
           }
          ],
          "parcoords": [
           {
            "line": {
             "colorbar": {
              "outlinewidth": 0,
              "ticks": ""
             }
            },
            "type": "parcoords"
           }
          ],
          "pie": [
           {
            "automargin": true,
            "type": "pie"
           }
          ],
          "scatter": [
           {
            "fillpattern": {
             "fillmode": "overlay",
             "size": 10,
             "solidity": 0.2
            },
            "type": "scatter"
           }
          ],
          "scatter3d": [
           {
            "line": {
             "colorbar": {
              "outlinewidth": 0,
              "ticks": ""
             }
            },
            "marker": {
             "colorbar": {
              "outlinewidth": 0,
              "ticks": ""
             }
            },
            "type": "scatter3d"
           }
          ],
          "scattercarpet": [
           {
            "marker": {
             "colorbar": {
              "outlinewidth": 0,
              "ticks": ""
             }
            },
            "type": "scattercarpet"
           }
          ],
          "scattergeo": [
           {
            "marker": {
             "colorbar": {
              "outlinewidth": 0,
              "ticks": ""
             }
            },
            "type": "scattergeo"
           }
          ],
          "scattergl": [
           {
            "marker": {
             "colorbar": {
              "outlinewidth": 0,
              "ticks": ""
             }
            },
            "type": "scattergl"
           }
          ],
          "scattermapbox": [
           {
            "marker": {
             "colorbar": {
              "outlinewidth": 0,
              "ticks": ""
             }
            },
            "type": "scattermapbox"
           }
          ],
          "scatterpolar": [
           {
            "marker": {
             "colorbar": {
              "outlinewidth": 0,
              "ticks": ""
             }
            },
            "type": "scatterpolar"
           }
          ],
          "scatterpolargl": [
           {
            "marker": {
             "colorbar": {
              "outlinewidth": 0,
              "ticks": ""
             }
            },
            "type": "scatterpolargl"
           }
          ],
          "scatterternary": [
           {
            "marker": {
             "colorbar": {
              "outlinewidth": 0,
              "ticks": ""
             }
            },
            "type": "scatterternary"
           }
          ],
          "surface": [
           {
            "colorbar": {
             "outlinewidth": 0,
             "ticks": ""
            },
            "colorscale": [
             [
              0,
              "#0d0887"
             ],
             [
              0.1111111111111111,
              "#46039f"
             ],
             [
              0.2222222222222222,
              "#7201a8"
             ],
             [
              0.3333333333333333,
              "#9c179e"
             ],
             [
              0.4444444444444444,
              "#bd3786"
             ],
             [
              0.5555555555555556,
              "#d8576b"
             ],
             [
              0.6666666666666666,
              "#ed7953"
             ],
             [
              0.7777777777777778,
              "#fb9f3a"
             ],
             [
              0.8888888888888888,
              "#fdca26"
             ],
             [
              1,
              "#f0f921"
             ]
            ],
            "type": "surface"
           }
          ],
          "table": [
           {
            "cells": {
             "fill": {
              "color": "#EBF0F8"
             },
             "line": {
              "color": "white"
             }
            },
            "header": {
             "fill": {
              "color": "#C8D4E3"
             },
             "line": {
              "color": "white"
             }
            },
            "type": "table"
           }
          ]
         },
         "layout": {
          "annotationdefaults": {
           "arrowcolor": "#2a3f5f",
           "arrowhead": 0,
           "arrowwidth": 1
          },
          "autotypenumbers": "strict",
          "coloraxis": {
           "colorbar": {
            "outlinewidth": 0,
            "ticks": ""
           }
          },
          "colorscale": {
           "diverging": [
            [
             0,
             "#8e0152"
            ],
            [
             0.1,
             "#c51b7d"
            ],
            [
             0.2,
             "#de77ae"
            ],
            [
             0.3,
             "#f1b6da"
            ],
            [
             0.4,
             "#fde0ef"
            ],
            [
             0.5,
             "#f7f7f7"
            ],
            [
             0.6,
             "#e6f5d0"
            ],
            [
             0.7,
             "#b8e186"
            ],
            [
             0.8,
             "#7fbc41"
            ],
            [
             0.9,
             "#4d9221"
            ],
            [
             1,
             "#276419"
            ]
           ],
           "sequential": [
            [
             0,
             "#0d0887"
            ],
            [
             0.1111111111111111,
             "#46039f"
            ],
            [
             0.2222222222222222,
             "#7201a8"
            ],
            [
             0.3333333333333333,
             "#9c179e"
            ],
            [
             0.4444444444444444,
             "#bd3786"
            ],
            [
             0.5555555555555556,
             "#d8576b"
            ],
            [
             0.6666666666666666,
             "#ed7953"
            ],
            [
             0.7777777777777778,
             "#fb9f3a"
            ],
            [
             0.8888888888888888,
             "#fdca26"
            ],
            [
             1,
             "#f0f921"
            ]
           ],
           "sequentialminus": [
            [
             0,
             "#0d0887"
            ],
            [
             0.1111111111111111,
             "#46039f"
            ],
            [
             0.2222222222222222,
             "#7201a8"
            ],
            [
             0.3333333333333333,
             "#9c179e"
            ],
            [
             0.4444444444444444,
             "#bd3786"
            ],
            [
             0.5555555555555556,
             "#d8576b"
            ],
            [
             0.6666666666666666,
             "#ed7953"
            ],
            [
             0.7777777777777778,
             "#fb9f3a"
            ],
            [
             0.8888888888888888,
             "#fdca26"
            ],
            [
             1,
             "#f0f921"
            ]
           ]
          },
          "colorway": [
           "#636efa",
           "#EF553B",
           "#00cc96",
           "#ab63fa",
           "#FFA15A",
           "#19d3f3",
           "#FF6692",
           "#B6E880",
           "#FF97FF",
           "#FECB52"
          ],
          "font": {
           "color": "#2a3f5f"
          },
          "geo": {
           "bgcolor": "white",
           "lakecolor": "white",
           "landcolor": "#E5ECF6",
           "showlakes": true,
           "showland": true,
           "subunitcolor": "white"
          },
          "hoverlabel": {
           "align": "left"
          },
          "hovermode": "closest",
          "mapbox": {
           "style": "light"
          },
          "paper_bgcolor": "white",
          "plot_bgcolor": "#E5ECF6",
          "polar": {
           "angularaxis": {
            "gridcolor": "white",
            "linecolor": "white",
            "ticks": ""
           },
           "bgcolor": "#E5ECF6",
           "radialaxis": {
            "gridcolor": "white",
            "linecolor": "white",
            "ticks": ""
           }
          },
          "scene": {
           "xaxis": {
            "backgroundcolor": "#E5ECF6",
            "gridcolor": "white",
            "gridwidth": 2,
            "linecolor": "white",
            "showbackground": true,
            "ticks": "",
            "zerolinecolor": "white"
           },
           "yaxis": {
            "backgroundcolor": "#E5ECF6",
            "gridcolor": "white",
            "gridwidth": 2,
            "linecolor": "white",
            "showbackground": true,
            "ticks": "",
            "zerolinecolor": "white"
           },
           "zaxis": {
            "backgroundcolor": "#E5ECF6",
            "gridcolor": "white",
            "gridwidth": 2,
            "linecolor": "white",
            "showbackground": true,
            "ticks": "",
            "zerolinecolor": "white"
           }
          },
          "shapedefaults": {
           "line": {
            "color": "#2a3f5f"
           }
          },
          "ternary": {
           "aaxis": {
            "gridcolor": "white",
            "linecolor": "white",
            "ticks": ""
           },
           "baxis": {
            "gridcolor": "white",
            "linecolor": "white",
            "ticks": ""
           },
           "bgcolor": "#E5ECF6",
           "caxis": {
            "gridcolor": "white",
            "linecolor": "white",
            "ticks": ""
           }
          },
          "title": {
           "x": 0.05
          },
          "xaxis": {
           "automargin": true,
           "gridcolor": "white",
           "linecolor": "white",
           "ticks": "",
           "title": {
            "standoff": 15
           },
           "zerolinecolor": "white",
           "zerolinewidth": 2
          },
          "yaxis": {
           "automargin": true,
           "gridcolor": "white",
           "linecolor": "white",
           "ticks": "",
           "title": {
            "standoff": 15
           },
           "zerolinecolor": "white",
           "zerolinewidth": 2
          }
         }
        }
       }
      }
     },
     "metadata": {},
     "output_type": "display_data"
    }
   ],
   "source": [
    "data = np.genfromtxt(\"Filtracion VR.csv\", delimiter=\",\")\n",
    "data = data[:25]\n",
    "\n",
    "import plotly.graph_objects as go\n",
    "import numpy as np\n",
    "\n",
    "layout = go.Layout(\n",
    "    scene=dict(xaxis=dict(showbackground=False),\n",
    "               yaxis=dict(showbackground=False),\n",
    "               zaxis=dict(showbackground=False)),\n",
    "    margin=dict(\n",
    "        l=0,\n",
    "        r=0,\n",
    "        b=0,\n",
    "        t=0\n",
    "    )\n",
    ")\n",
    "\n",
    "trace = go.Scatter3d(x=data[:, 0], y=data[:, 1], z=data[:, 2], mode='markers',\n",
    "                     marker=dict(color='black', size=4))\n",
    "\n",
    "fig = go.Figure(data=[trace], layout=layout)\n",
    "\n",
    "fig.show()"
   ]
  },
  {
   "cell_type": "markdown",
   "metadata": {},
   "source": [
    "Es la pata del gato c:"
   ]
  },
  {
   "cell_type": "code",
   "execution_count": 4,
   "metadata": {},
   "outputs": [],
   "source": [
    "def distance(point1, point2, p):\n",
    "    return np.power(np.sum(np.power(np.abs(point1 - point2), p)), 1/p)"
   ]
  },
  {
   "cell_type": "markdown",
   "metadata": {},
   "source": [
    "$$\n",
    "\\left( \\sum_{i=1}^{n} |x_{i} - x_{j}|^p \\right)^{\\frac{1}{p}}\n",
    "$$\n"
   ]
  },
  {
   "cell_type": "code",
   "execution_count": 5,
   "metadata": {},
   "outputs": [],
   "source": [
    "def calculate_distance_matrix(dataset, p):\n",
    "    distance_matrix = np.zeros((dataset.shape[0], dataset.shape[0]))\n",
    "    for i in range(dataset.shape[0]):\n",
    "        for j in range(dataset.shape[0]):\n",
    "            distance_matrix[i, j] = distance(dataset[i], dataset[j], p)\n",
    "    return distance_matrix"
   ]
  },
  {
   "cell_type": "code",
   "execution_count": 6,
   "metadata": {},
   "outputs": [],
   "source": [
    "distance_matrix = calculate_distance_matrix(data, p)"
   ]
  },
  {
   "cell_type": "code",
   "execution_count": 7,
   "metadata": {},
   "outputs": [],
   "source": [
    "def vietoris_rips_filtration(distance_matrix, epsilon):\n",
    "    n = distance_matrix.shape[0]\n",
    "    complex = []\n",
    "\n",
    "    def add_simplex(simplex, max_distance):\n",
    "        complex.append(simplex)\n",
    "        if len(simplex) < n:\n",
    "            for i in range(max(simplex) + 1, n):\n",
    "                new_distance = max(max_distance, distance_matrix[simplex[0], i])\n",
    "                if new_distance <= epsilon:\n",
    "                    add_simplex(simplex + [i], new_distance)\n",
    "\n",
    "    for i in range(n):\n",
    "        add_simplex([i], 0)\n",
    "\n",
    "    return complex"
   ]
  },
  {
   "cell_type": "code",
   "execution_count": 17,
   "metadata": {},
   "outputs": [
    {
     "name": "stdout",
     "output_type": "stream",
     "text": [
      "Epsilon 0.01: [[0], [1], [2], [2, 8], [2, 8, 68], [2, 68], [3], [4], [5], [6], [7], [8], [8, 72], [9], [10], [11], [12], [13], [13, 14], [14], [15], [15, 16], [15, 16, 17], [15, 16, 17, 18], [15, 16, 18], [15, 17], [15, 17, 18], [15, 18], [16], [16, 17], [17], [17, 18], [18], [18, 65], [18, 65, 66], [18, 66], [19], [19, 22], [20], [20, 21], [21], [22], [23], [23, 24], [24], [25], [25, 26], [26], [27], [27, 28], [27, 28, 29], [27, 28, 29, 30], [27, 28, 29, 30, 37], [27, 28, 29, 30, 37, 39], [27, 28, 29, 30, 37, 39, 40], [27, 28, 29, 30, 37, 40], [27, 28, 29, 30, 39], [27, 28, 29, 30, 39, 40], [27, 28, 29, 30, 40], [27, 28, 29, 37], [27, 28, 29, 37, 39], [27, 28, 29, 37, 39, 40], [27, 28, 29, 37, 40], [27, 28, 29, 39], [27, 28, 29, 39, 40], [27, 28, 29, 40], [27, 28, 30], [27, 28, 30, 37], [27, 28, 30, 37, 39], [27, 28, 30, 37, 39, 40], [27, 28, 30, 37, 40], [27, 28, 30, 39], [27, 28, 30, 39, 40], [27, 28, 30, 40], [27, 28, 37], [27, 28, 37, 39], [27, 28, 37, 39, 40], [27, 28, 37, 40], [27, 28, 39], [27, 28, 39, 40], [27, 28, 40], [27, 29], [27, 29, 30], [27, 29, 30, 37], [27, 29, 30, 37, 39], [27, 29, 30, 37, 39, 40], [27, 29, 30, 37, 40], [27, 29, 30, 39], [27, 29, 30, 39, 40], [27, 29, 30, 40], [27, 29, 37], [27, 29, 37, 39], [27, 29, 37, 39, 40], [27, 29, 37, 40], [27, 29, 39], [27, 29, 39, 40], [27, 29, 40], [27, 30], [27, 30, 37], [27, 30, 37, 39], [27, 30, 37, 39, 40], [27, 30, 37, 40], [27, 30, 39], [27, 30, 39, 40], [27, 30, 40], [27, 37], [27, 37, 39], [27, 37, 39, 40], [27, 37, 40], [27, 39], [27, 39, 40], [27, 40], [28], [28, 29], [28, 29, 30], [28, 29, 30, 37], [28, 29, 30, 37, 40], [28, 29, 30, 37, 40, 79], [28, 29, 30, 37, 79], [28, 29, 30, 40], [28, 29, 30, 40, 79], [28, 29, 30, 79], [28, 29, 37], [28, 29, 37, 40], [28, 29, 37, 40, 79], [28, 29, 37, 79], [28, 29, 40], [28, 29, 40, 79], [28, 29, 79], [28, 30], [28, 30, 37], [28, 30, 37, 40], [28, 30, 37, 40, 79], [28, 30, 37, 79], [28, 30, 40], [28, 30, 40, 79], [28, 30, 79], [28, 37], [28, 37, 40], [28, 37, 40, 79], [28, 37, 79], [28, 40], [28, 40, 79], [28, 79], [29], [29, 30], [29, 30, 31], [29, 30, 31, 32], [29, 30, 31, 32, 40], [29, 30, 31, 32, 40, 79], [29, 30, 31, 32, 79], [29, 30, 31, 40], [29, 30, 31, 40, 79], [29, 30, 31, 79], [29, 30, 32], [29, 30, 32, 40], [29, 30, 32, 40, 79], [29, 30, 32, 79], [29, 30, 40], [29, 30, 40, 79], [29, 30, 79], [29, 31], [29, 31, 32], [29, 31, 32, 40], [29, 31, 32, 40, 79], [29, 31, 32, 79], [29, 31, 40], [29, 31, 40, 79], [29, 31, 79], [29, 32], [29, 32, 40], [29, 32, 40, 79], [29, 32, 79], [29, 40], [29, 40, 79], [29, 79], [30], [30, 31], [30, 31, 32], [30, 31, 32, 40], [30, 31, 32, 40, 79], [30, 31, 32, 79], [30, 31, 40], [30, 31, 40, 79], [30, 31, 79], [30, 32], [30, 32, 40], [30, 32, 40, 79], [30, 32, 79], [30, 40], [30, 40, 79], [30, 79], [31], [31, 32], [31, 32, 42], [31, 32, 42, 43], [31, 32, 42, 43, 78], [31, 32, 42, 43, 78, 79], [31, 32, 42, 43, 79], [31, 32, 42, 78], [31, 32, 42, 78, 79], [31, 32, 42, 79], [31, 32, 43], [31, 32, 43, 78], [31, 32, 43, 78, 79], [31, 32, 43, 79], [31, 32, 78], [31, 32, 78, 79], [31, 32, 79], [31, 42], [31, 42, 43], [31, 42, 43, 78], [31, 42, 43, 78, 79], [31, 42, 43, 79], [31, 42, 78], [31, 42, 78, 79], [31, 42, 79], [31, 43], [31, 43, 78], [31, 43, 78, 79], [31, 43, 79], [31, 78], [31, 78, 79], [31, 79], [32], [32, 42], [32, 42, 43], [32, 42, 43, 78], [32, 42, 43, 78, 79], [32, 42, 43, 79], [32, 42, 78], [32, 42, 78, 79], [32, 42, 79], [32, 43], [32, 43, 78], [32, 43, 78, 79], [32, 43, 79], [32, 78], [32, 78, 79], [32, 79], [33], [33, 54], [34], [34, 35], [35], [35, 44], [36], [36, 53], [37], [37, 38], [37, 38, 39], [37, 38, 39, 40], [37, 38, 40], [37, 39], [37, 39, 40], [37, 40], [38], [38, 39], [38, 39, 47], [38, 39, 47, 48], [38, 39, 48], [38, 47], [38, 47, 48], [38, 48], [39], [39, 40], [39, 40, 47], [39, 47], [40], [41], [41, 42], [41, 42, 43], [41, 42, 43, 44], [41, 42, 44], [41, 43], [41, 43, 44], [41, 44], [42], [42, 43], [42, 43, 44], [42, 44], [43], [43, 44], [43, 44, 78], [43, 78], [44], [45], [45, 46], [45, 46, 48], [45, 46, 48, 66], [45, 46, 48, 66, 97], [45, 46, 48, 66, 97, 98], [45, 46, 48, 66, 98], [45, 46, 48, 97], [45, 46, 48, 97, 98], [45, 46, 48, 98], [45, 46, 66], [45, 46, 66, 97], [45, 46, 66, 97, 98], [45, 46, 66, 98], [45, 46, 97], [45, 46, 97, 98], [45, 46, 98], [45, 48], [45, 48, 66], [45, 48, 66, 97], [45, 48, 66, 97, 98], [45, 48, 66, 98], [45, 48, 97], [45, 48, 97, 98], [45, 48, 98], [45, 66], [45, 66, 97], [45, 66, 97, 98], [45, 66, 98], [45, 97], [45, 97, 98], [45, 98], [46], [46, 47], [46, 47, 48], [46, 47, 48, 95], [46, 47, 48, 95, 97], [46, 47, 48, 95, 97, 98], [46, 47, 48, 95, 98], [46, 47, 48, 97], [46, 47, 48, 97, 98], [46, 47, 48, 98], [46, 47, 95], [46, 47, 95, 97], [46, 47, 95, 97, 98], [46, 47, 95, 98], [46, 47, 97], [46, 47, 97, 98], [46, 47, 98], [46, 48], [46, 48, 95], [46, 48, 95, 97], [46, 48, 95, 97, 98], [46, 48, 95, 98], [46, 48, 97], [46, 48, 97, 98], [46, 48, 98], [46, 95], [46, 95, 97], [46, 95, 97, 98], [46, 95, 98], [46, 97], [46, 97, 98], [46, 98], [47], [47, 48], [47, 48, 97], [47, 97], [48], [48, 97], [49], [49, 50], [50], [51], [51, 52], [52], [53], [54], [54, 55], [55], [56], [56, 57], [57], [58], [59], [60], [60, 76], [61], [62], [62, 63], [63], [64], [65], [65, 66], [65, 66, 98], [65, 98], [66], [66, 98], [67], [67, 68], [67, 68, 69], [67, 68, 69, 70], [67, 68, 69, 70, 81], [67, 68, 69, 81], [67, 68, 70], [67, 68, 70, 81], [67, 68, 81], [67, 69], [67, 69, 70], [67, 69, 70, 81], [67, 69, 81], [67, 70], [67, 70, 81], [67, 81], [68], [68, 71], [68, 71, 72], [68, 72], [69], [69, 81], [69, 81, 85], [69, 85], [70], [70, 71], [70, 71, 81], [70, 71, 81, 83], [70, 71, 81, 83, 85], [70, 71, 81, 85], [70, 71, 83], [70, 71, 83, 85], [70, 71, 85], [70, 81], [70, 81, 83], [70, 81, 83, 85], [70, 81, 85], [70, 83], [70, 83, 85], [70, 85], [71], [71, 72], [71, 72, 74], [71, 72, 74, 84], [71, 72, 84], [71, 74], [71, 74, 84], [71, 84], [72], [72, 74], [73], [73, 75], [74], [75], [75, 92], [76], [77], [77, 80], [78], [78, 79], [79], [80], [81], [81, 82], [81, 82, 85], [81, 85], [82], [82, 83], [82, 83, 85], [82, 85], [83], [83, 84], [84], [84, 93], [85], [86], [86, 87], [86, 87, 89], [86, 87, 89, 94], [86, 87, 94], [86, 89], [86, 89, 94], [86, 94], [87], [87, 88], [87, 88, 91], [87, 91], [88], [88, 89], [89], [89, 94], [90], [90, 91], [91], [92], [93], [94], [95], [95, 96], [95, 96, 98], [95, 98], [96], [96, 97], [97], [98], [99]]\n"
     ]
    }
   ],
   "source": [
    "complex = vietoris_rips_filtration(distance_matrix, epsilon)\n",
    "print(f\"Epsilon {epsilon}: {complex}\")"
   ]
  },
  {
   "cell_type": "markdown",
   "metadata": {},
   "source": [
    "# Números de Betti"
   ]
  },
  {
   "cell_type": "code",
   "execution_count": 22,
   "metadata": {},
   "outputs": [
    {
     "name": "stdout",
     "output_type": "stream",
     "text": [
      "Betti 0: 33\n",
      "Betti 1: 5\n",
      "Betti 2: 0\n"
     ]
    }
   ],
   "source": [
    "import gudhi as gd\n",
    "\n",
    "def betti_numbers(complex, k):\n",
    "    st = gd.SimplexTree()\n",
    "\n",
    "    for simplex in complex:\n",
    "        st.insert(simplex)\n",
    "\n",
    "    diag = st.persistence()\n",
    "\n",
    "    betti_nums = [0]*(k+1)\n",
    "    for dim, (birth, death) in diag:\n",
    "        if dim <= k:\n",
    "            betti_nums[dim] += 1\n",
    "\n",
    "    return betti_nums\n",
    "\n",
    "betti_nums = betti_numbers(complex=complex, k=2)\n",
    "for i, betti in enumerate(betti_nums):\n",
    "    print(f\"Betti {i}:\", betti)"
   ]
  },
  {
   "cell_type": "markdown",
   "metadata": {},
   "source": [
    "# Diagrama de persistencia"
   ]
  },
  {
   "cell_type": "code",
   "execution_count": 25,
   "metadata": {},
   "outputs": [],
   "source": [
    "from ripser import ripser\n",
    "import matplotlib.pyplot as plt\n",
    "import numpy as np\n",
    "\n",
    "def barcode_homology_persistence(data, title, dimension):\n",
    "    result = ripser(data, maxdim=dimension)\n",
    "    diagrams = result['dgms']\n",
    "    plt.figure(figsize=(7, 7))\n",
    "    plt.suptitle(title)\n",
    "    dgm = diagrams[dimension]\n",
    "    for j, pt in enumerate(dgm):\n",
    "        death = pt[1] if np.isfinite(pt[1]) else np.max(dgm[np.isfinite(dgm[:, 1]), 1]) * 2\n",
    "        plt.plot([pt[0], death], [j, j], '-o')  \n",
    "    plt.tight_layout()\n",
    "    plt.show()"
   ]
  },
  {
   "cell_type": "code",
   "execution_count": 26,
   "metadata": {},
   "outputs": [
    {
     "data": {
      "image/png": "[encoded data removed]",
      "text/plain": [
       "<Figure size 700x700 with 1 Axes>"
      ]
     },
     "metadata": {},
     "output_type": "display_data"
    }
   ],
   "source": [
    "barcode_homology_persistence(data, \"Pata del gato en $H_0$ \", 0)"
   ]
  },
  {
   "cell_type": "code",
   "execution_count": 27,
   "metadata": {},
   "outputs": [
    {
     "data": {
      "image/png": "[encoded data removed]",
      "text/plain": [
       "<Figure size 700x700 with 1 Axes>"
      ]
     },
     "metadata": {},
     "output_type": "display_data"
    }
   ],
   "source": [
    "barcode_homology_persistence(data, \"Pata del gato $H_1$ \", 1)"
   ]
  },
  {
   "cell_type": "code",
   "execution_count": 28,
   "metadata": {},
   "outputs": [
    {
     "data": {
      "text/plain": [
       "<Figure size 700x700 with 0 Axes>"
      ]
     },
     "metadata": {},
     "output_type": "display_data"
    }
   ],
   "source": [
    "barcode_homology_persistence(data, \"Pata del gato en $H_2$ \", 2)"
   ]
  }
 ],
 "metadata": {
  "kernelspec": {
   "display_name": "Python 3",
   "language": "python",
   "name": "python3"
  },
  "language_info": {
   "codemirror_mode": {
    "name": "ipython",
    "version": 3
   },
   "file_extension": ".py",
   "mimetype": "text/x-python",
   "name": "python",
   "nbconvert_exporter": "python",
   "pygments_lexer": "ipython3",
   "version": "3.12.1"
  }
 },
 "nbformat": 4,
 "nbformat_minor": 2
}
