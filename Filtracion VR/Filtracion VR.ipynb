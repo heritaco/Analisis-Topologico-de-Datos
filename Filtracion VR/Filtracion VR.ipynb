{
 "cells": [
  {
   "cell_type": "code",
   "execution_count": 1,
   "metadata": {},
   "outputs": [],
   "source": [
    "import numpy as np\n",
    "import pandas as pd"
   ]
  },
  {
   "cell_type": "code",
   "execution_count": 2,
   "metadata": {},
   "outputs": [],
   "source": [
    "p = 2\n",
    "epsilon = .01"
   ]
  },
  {
   "cell_type": "code",
   "execution_count": 3,
   "metadata": {},
   "outputs": [
    {
     "name": "stdout",
     "output_type": "stream",
     "text": [
      "[[ 0.013579  0.215377 -0.170891]\n",
      " [ 0.010493  0.226649 -0.173601]\n",
      " [ 0.020415  0.230665 -0.175927]\n",
      " [ 0.060064  0.241075 -0.140388]\n",
      " [ 0.057849  0.251924 -0.140969]\n",
      " [ 0.060421  0.253476 -0.126477]\n",
      " [ 0.062693  0.243492 -0.125203]\n",
      " [ 0.032816  0.221959 -0.172495]\n",
      " [ 0.026989  0.233526 -0.174706]\n",
      " [ 0.037539  0.239213 -0.169297]]\n"
     ]
    }
   ],
   "source": [
    "data = np.genfromtxt(\"Filtracion VR.csv\", delimiter=\",\")\n",
    "data = data[:10]\n",
    "print(data)"
   ]
  },
  {
   "cell_type": "code",
   "execution_count": 4,
   "metadata": {},
   "outputs": [],
   "source": [
    "def distance(point1, point2, p):\n",
    "    return np.power(np.sum(np.power(np.abs(point1 - point2), p)), 1/p)"
   ]
  },
  {
   "cell_type": "markdown",
   "metadata": {},
   "source": [
    "$$\n",
    "\\left( \\sum_{i=1}^{n} |x_{i} - x_{j}|^p \\right)^{\\frac{1}{p}}\n",
    "$$\n"
   ]
  },
  {
   "cell_type": "code",
   "execution_count": 5,
   "metadata": {},
   "outputs": [],
   "source": [
    "def calculate_distance_matrix(dataset, p):\n",
    "    distance_matrix = np.zeros((dataset.shape[0], dataset.shape[0]))\n",
    "    for i in range(dataset.shape[0]):\n",
    "        for j in range(dataset.shape[0]):\n",
    "            distance_matrix[i, j] = distance(dataset[i], dataset[j], p)\n",
    "    return distance_matrix"
   ]
  },
  {
   "cell_type": "code",
   "execution_count": 6,
   "metadata": {},
   "outputs": [
    {
     "name": "stdout",
     "output_type": "stream",
     "text": [
      "[[0.         0.01199689 0.01748757 0.06125092 0.06473671 0.07495539\n",
      "  0.0727326  0.02039504 0.02288599 0.03383456]\n",
      " [0.01199689 0.         0.01095375 0.06138808 0.06281929 0.07371\n",
      "  0.0731498  0.02283716 0.0179062  0.03013079]\n",
      " [0.01748757 0.01095375 0.         0.0542534  0.05545549 0.0675731\n",
      "  0.06726727 0.0155357  0.0072728  0.02025479]\n",
      " [0.06125092 0.06138808 0.0542534  0.         0.01108804 0.01863943\n",
      "  0.01559929 0.04624645 0.04825628 0.03669568]\n",
      " [0.06473671 0.06281929 0.05545549 0.01108804 0.         0.01480007\n",
      "  0.01852376 0.05018407 0.049285   0.03710177]\n",
      " [0.07495539 0.07371    0.0675731  0.01863943 0.01480007 0.\n",
      "  0.0103182  0.06223354 0.06198175 0.05060209]\n",
      " [0.0727326  0.0731498  0.06726727 0.01559929 0.01852376 0.0103182\n",
      "  0.         0.05994029 0.0618437  0.05094423]\n",
      " [0.02039504 0.02283716 0.0155357  0.04624645 0.05018407 0.06223354\n",
      "  0.05994029 0.         0.01313918 0.01817235]\n",
      " [0.02288599 0.0179062  0.0072728  0.04825628 0.049285   0.06198175\n",
      "  0.0618437  0.01313918 0.         0.01314921]\n",
      " [0.03383456 0.03013079 0.02025479 0.03669568 0.03710177 0.05060209\n",
      "  0.05094423 0.01817235 0.01314921 0.        ]]\n"
     ]
    }
   ],
   "source": [
    "distance_matrix = calculate_distance_matrix(data, p) \n",
    "print(distance_matrix)"
   ]
  },
  {
   "cell_type": "code",
   "execution_count": null,
   "metadata": {},
   "outputs": [],
   "source": [
    "def vietoris_rips_filtration(distance_matrix, epsilon):\n",
    "    n = distance_matrix.shape[0]\n",
    "    complex = []\n",
    "\n",
    "    def add_simplex(simplex, max_distance):\n",
    "        complex.append(simplex)\n",
    "        if len(simplex) < n: # Si el simplejo aún no tiene tamaño n\n",
    "            for i in range(max(simplex) + 1, n): # Para cada punto i que aún no está en el simplejo\n",
    "                # Calcula la distancia máxima desde el primer punto en el simplejo hasta el punto i\n",
    "                new_distance = max(max_distance, distance_matrix[simplex[0], i])  \n",
    "                if new_distance <= epsilon: # Si esta distancia máxima es menor o igual a epsilon\n",
    "                    # Agrega el punto i al simplejo y llama recursivamente a add_simplex\n",
    "                    add_simplex(simplex + [i], new_distance) \n",
    "\n",
    "    for i in range(n): # Para cada punto i\n",
    "        add_simplex([i], 0) # Inicia un nuevo simplejo con solo el punto i\n",
    "\n",
    "    return complex"
   ]
  },
  {
   "cell_type": "code",
   "execution_count": 8,
   "metadata": {},
   "outputs": [
    {
     "name": "stdout",
     "output_type": "stream",
     "text": [
      "Epsilon 0.01: [[0], [1], [2], [2, 8], [3], [4], [5], [6], [7], [8], [9]]\n"
     ]
    }
   ],
   "source": [
    "complex = vietoris_rips_filtration(distance_matrix, epsilon)\n",
    "print(f\"Epsilon {epsilon}: {complex}\")"
   ]
  }
 ],
 "metadata": {
  "kernelspec": {
   "display_name": "Python 3",
   "language": "python",
   "name": "python3"
  },
  "language_info": {
   "codemirror_mode": {
    "name": "ipython",
    "version": 3
   },
   "file_extension": ".py",
   "mimetype": "text/x-python",
   "name": "python",
   "nbconvert_exporter": "python",
   "pygments_lexer": "ipython3",
   "version": "3.12.1"
  }
 },
 "nbformat": 4,
 "nbformat_minor": 2
}
