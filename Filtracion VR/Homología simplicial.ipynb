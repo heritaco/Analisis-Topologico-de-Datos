{
 "cells": [
  {
   "cell_type": "markdown",
   "metadata": {},
   "source": [
    "# Filtración VR"
   ]
  },
  {
   "cell_type": "code",
   "execution_count": 1,
   "metadata": {},
   "outputs": [],
   "source": [
    "import numpy as np\n",
    "import pandas as pd"
   ]
  },
  {
   "cell_type": "code",
   "execution_count": 2,
   "metadata": {},
   "outputs": [],
   "source": [
    "p = 2\n",
    "epsilon = .015"
   ]
  },
  {
   "cell_type": "code",
   "execution_count": 3,
   "metadata": {},
   "outputs": [
    {
     "data": {
      "application/vnd.plotly.v1+json": {
       "config": {
        "plotlyServerURL": "https://plot.ly"
       },
       "data": [
        {
         "marker": {
          "color": "black",
          "size": 4
         },
         "mode": "markers",
         "type": "scatter3d",
         "x": [
          0.013579,
          0.010493,
          0.020415,
          0.060064,
          0.057849,
          0.060421,
          0.062693,
          0.032816,
          0.026989,
          0.037539,
          0.041639,
          0.063728,
          0.061288,
          0.061621,
          0.064054,
          0.061356,
          0.059843,
          0.057381,
          0.058631,
          0.003053,
          0.002774,
          0.000054,
          0.000101,
          0.002775,
          -0.000016,
          0.000008,
          0.002675,
          0.050088,
          0.04822,
          0.045076,
          0.046747,
          0.042519,
          0.040749,
          0.011741,
          0.024751,
          0.023181,
          0.011383,
          0.052731,
          0.054894,
          0.051831
         ],
         "y": [
          0.215377,
          0.226649,
          0.230665,
          0.241075,
          0.251924,
          0.253476,
          0.243492,
          0.221959,
          0.233526,
          0.239213,
          0.228136,
          0.244642,
          0.255913,
          0.253554,
          0.245605,
          0.241296,
          0.248843,
          0.244103,
          0.236816,
          0.203717,
          0.194943,
          0.194932,
          0.203699,
          0.184867,
          0.185229,
          0.189344,
          0.189349,
          0.193708,
          0.192557,
          0.189789,
          0.190102,
          0.187708,
          0.18761,
          0.181138,
          0.179697,
          0.181704,
          0.181514,
          0.198602,
          0.204898,
          0.201901
         ],
         "z": [
          -0.170891,
          -0.173601,
          -0.175927,
          -0.140388,
          -0.140969,
          -0.126477,
          -0.125203,
          -0.172495,
          -0.174706,
          -0.169297,
          -0.167291,
          -0.094737,
          -0.097883,
          -0.078814,
          -0.07506,
          -0.046068,
          -0.050007,
          -0.04199,
          -0.038629,
          -0.151802,
          -0.131875,
          -0.131864,
          -0.151795,
          -0.100746,
          -0.102104,
          -0.114917,
          -0.114929,
          -0.034423,
          -0.034996,
          -0.037207,
          -0.037748,
          -0.042453,
          -0.041399,
          -0.07301,
          -0.065472,
          -0.057373,
          -0.061041,
          -0.032538,
          -0.031427,
          -0.032377
         ]
        }
       ],
       "layout": {
        "margin": {
         "b": 0,
         "l": 0,
         "r": 0,
         "t": 0
        },
        "scene": {
         "xaxis": {
          "showbackground": false
         },
         "yaxis": {
          "showbackground": false
         },
         "zaxis": {
          "showbackground": false
         }
        },
        "template": {
         "data": {
          "bar": [
           {
            "error_x": {
             "color": "#2a3f5f"
            },
            "error_y": {
             "color": "#2a3f5f"
            },
            "marker": {
             "line": {
              "color": "#E5ECF6",
              "width": 0.5
             },
             "pattern": {
              "fillmode": "overlay",
              "size": 10,
              "solidity": 0.2
             }
            },
            "type": "bar"
           }
          ],
          "barpolar": [
           {
            "marker": {
             "line": {
              "color": "#E5ECF6",
              "width": 0.5
             },
             "pattern": {
              "fillmode": "overlay",
              "size": 10,
              "solidity": 0.2
             }
            },
            "type": "barpolar"
           }
          ],
          "carpet": [
           {
            "aaxis": {
             "endlinecolor": "#2a3f5f",
             "gridcolor": "white",
             "linecolor": "white",
             "minorgridcolor": "white",
             "startlinecolor": "#2a3f5f"
            },
            "baxis": {
             "endlinecolor": "#2a3f5f",
             "gridcolor": "white",
             "linecolor": "white",
             "minorgridcolor": "white",
             "startlinecolor": "#2a3f5f"
            },
            "type": "carpet"
           }
          ],
          "choropleth": [
           {
            "colorbar": {
             "outlinewidth": 0,
             "ticks": ""
            },
            "type": "choropleth"
           }
          ],
          "contour": [
           {
            "colorbar": {
             "outlinewidth": 0,
             "ticks": ""
            },
            "colorscale": [
             [
              0,
              "#0d0887"
             ],
             [
              0.1111111111111111,
              "#46039f"
             ],
             [
              0.2222222222222222,
              "#7201a8"
             ],
             [
              0.3333333333333333,
              "#9c179e"
             ],
             [
              0.4444444444444444,
              "#bd3786"
             ],
             [
              0.5555555555555556,
              "#d8576b"
             ],
             [
              0.6666666666666666,
              "#ed7953"
             ],
             [
              0.7777777777777778,
              "#fb9f3a"
             ],
             [
              0.8888888888888888,
              "#fdca26"
             ],
             [
              1,
              "#f0f921"
             ]
            ],
            "type": "contour"
           }
          ],
          "contourcarpet": [
           {
            "colorbar": {
             "outlinewidth": 0,
             "ticks": ""
            },
            "type": "contourcarpet"
           }
          ],
          "heatmap": [
           {
            "colorbar": {
             "outlinewidth": 0,
             "ticks": ""
            },
            "colorscale": [
             [
              0,
              "#0d0887"
             ],
             [
              0.1111111111111111,
              "#46039f"
             ],
             [
              0.2222222222222222,
              "#7201a8"
             ],
             [
              0.3333333333333333,
              "#9c179e"
             ],
             [
              0.4444444444444444,
              "#bd3786"
             ],
             [
              0.5555555555555556,
              "#d8576b"
             ],
             [
              0.6666666666666666,
              "#ed7953"
             ],
             [
              0.7777777777777778,
              "#fb9f3a"
             ],
             [
              0.8888888888888888,
              "#fdca26"
             ],
             [
              1,
              "#f0f921"
             ]
            ],
            "type": "heatmap"
           }
          ],
          "heatmapgl": [
           {
            "colorbar": {
             "outlinewidth": 0,
             "ticks": ""
            },
            "colorscale": [
             [
              0,
              "#0d0887"
             ],
             [
              0.1111111111111111,
              "#46039f"
             ],
             [
              0.2222222222222222,
              "#7201a8"
             ],
             [
              0.3333333333333333,
              "#9c179e"
             ],
             [
              0.4444444444444444,
              "#bd3786"
             ],
             [
              0.5555555555555556,
              "#d8576b"
             ],
             [
              0.6666666666666666,
              "#ed7953"
             ],
             [
              0.7777777777777778,
              "#fb9f3a"
             ],
             [
              0.8888888888888888,
              "#fdca26"
             ],
             [
              1,
              "#f0f921"
             ]
            ],
            "type": "heatmapgl"
           }
          ],
          "histogram": [
           {
            "marker": {
             "pattern": {
              "fillmode": "overlay",
              "size": 10,
              "solidity": 0.2
             }
            },
            "type": "histogram"
           }
          ],
          "histogram2d": [
           {
            "colorbar": {
             "outlinewidth": 0,
             "ticks": ""
            },
            "colorscale": [
             [
              0,
              "#0d0887"
             ],
             [
              0.1111111111111111,
              "#46039f"
             ],
             [
              0.2222222222222222,
              "#7201a8"
             ],
             [
              0.3333333333333333,
              "#9c179e"
             ],
             [
              0.4444444444444444,
              "#bd3786"
             ],
             [
              0.5555555555555556,
              "#d8576b"
             ],
             [
              0.6666666666666666,
              "#ed7953"
             ],
             [
              0.7777777777777778,
              "#fb9f3a"
             ],
             [
              0.8888888888888888,
              "#fdca26"
             ],
             [
              1,
              "#f0f921"
             ]
            ],
            "type": "histogram2d"
           }
          ],
          "histogram2dcontour": [
           {
            "colorbar": {
             "outlinewidth": 0,
             "ticks": ""
            },
            "colorscale": [
             [
              0,
              "#0d0887"
             ],
             [
              0.1111111111111111,
              "#46039f"
             ],
             [
              0.2222222222222222,
              "#7201a8"
             ],
             [
              0.3333333333333333,
              "#9c179e"
             ],
             [
              0.4444444444444444,
              "#bd3786"
             ],
             [
              0.5555555555555556,
              "#d8576b"
             ],
             [
              0.6666666666666666,
              "#ed7953"
             ],
             [
              0.7777777777777778,
              "#fb9f3a"
             ],
             [
              0.8888888888888888,
              "#fdca26"
             ],
             [
              1,
              "#f0f921"
             ]
            ],
            "type": "histogram2dcontour"
           }
          ],
          "mesh3d": [
           {
            "colorbar": {
             "outlinewidth": 0,
             "ticks": ""
            },
            "type": "mesh3d"
           }
          ],
          "parcoords": [
           {
            "line": {
             "colorbar": {
              "outlinewidth": 0,
              "ticks": ""
             }
            },
            "type": "parcoords"
           }
          ],
          "pie": [
           {
            "automargin": true,
            "type": "pie"
           }
          ],
          "scatter": [
           {
            "fillpattern": {
             "fillmode": "overlay",
             "size": 10,
             "solidity": 0.2
            },
            "type": "scatter"
           }
          ],
          "scatter3d": [
           {
            "line": {
             "colorbar": {
              "outlinewidth": 0,
              "ticks": ""
             }
            },
            "marker": {
             "colorbar": {
              "outlinewidth": 0,
              "ticks": ""
             }
            },
            "type": "scatter3d"
           }
          ],
          "scattercarpet": [
           {
            "marker": {
             "colorbar": {
              "outlinewidth": 0,
              "ticks": ""
             }
            },
            "type": "scattercarpet"
           }
          ],
          "scattergeo": [
           {
            "marker": {
             "colorbar": {
              "outlinewidth": 0,
              "ticks": ""
             }
            },
            "type": "scattergeo"
           }
          ],
          "scattergl": [
           {
            "marker": {
             "colorbar": {
              "outlinewidth": 0,
              "ticks": ""
             }
            },
            "type": "scattergl"
           }
          ],
          "scattermapbox": [
           {
            "marker": {
             "colorbar": {
              "outlinewidth": 0,
              "ticks": ""
             }
            },
            "type": "scattermapbox"
           }
          ],
          "scatterpolar": [
           {
            "marker": {
             "colorbar": {
              "outlinewidth": 0,
              "ticks": ""
             }
            },
            "type": "scatterpolar"
           }
          ],
          "scatterpolargl": [
           {
            "marker": {
             "colorbar": {
              "outlinewidth": 0,
              "ticks": ""
             }
            },
            "type": "scatterpolargl"
           }
          ],
          "scatterternary": [
           {
            "marker": {
             "colorbar": {
              "outlinewidth": 0,
              "ticks": ""
             }
            },
            "type": "scatterternary"
           }
          ],
          "surface": [
           {
            "colorbar": {
             "outlinewidth": 0,
             "ticks": ""
            },
            "colorscale": [
             [
              0,
              "#0d0887"
             ],
             [
              0.1111111111111111,
              "#46039f"
             ],
             [
              0.2222222222222222,
              "#7201a8"
             ],
             [
              0.3333333333333333,
              "#9c179e"
             ],
             [
              0.4444444444444444,
              "#bd3786"
             ],
             [
              0.5555555555555556,
              "#d8576b"
             ],
             [
              0.6666666666666666,
              "#ed7953"
             ],
             [
              0.7777777777777778,
              "#fb9f3a"
             ],
             [
              0.8888888888888888,
              "#fdca26"
             ],
             [
              1,
              "#f0f921"
             ]
            ],
            "type": "surface"
           }
          ],
          "table": [
           {
            "cells": {
             "fill": {
              "color": "#EBF0F8"
             },
             "line": {
              "color": "white"
             }
            },
            "header": {
             "fill": {
              "color": "#C8D4E3"
             },
             "line": {
              "color": "white"
             }
            },
            "type": "table"
           }
          ]
         },
         "layout": {
          "annotationdefaults": {
           "arrowcolor": "#2a3f5f",
           "arrowhead": 0,
           "arrowwidth": 1
          },
          "autotypenumbers": "strict",
          "coloraxis": {
           "colorbar": {
            "outlinewidth": 0,
            "ticks": ""
           }
          },
          "colorscale": {
           "diverging": [
            [
             0,
             "#8e0152"
            ],
            [
             0.1,
             "#c51b7d"
            ],
            [
             0.2,
             "#de77ae"
            ],
            [
             0.3,
             "#f1b6da"
            ],
            [
             0.4,
             "#fde0ef"
            ],
            [
             0.5,
             "#f7f7f7"
            ],
            [
             0.6,
             "#e6f5d0"
            ],
            [
             0.7,
             "#b8e186"
            ],
            [
             0.8,
             "#7fbc41"
            ],
            [
             0.9,
             "#4d9221"
            ],
            [
             1,
             "#276419"
            ]
           ],
           "sequential": [
            [
             0,
             "#0d0887"
            ],
            [
             0.1111111111111111,
             "#46039f"
            ],
            [
             0.2222222222222222,
             "#7201a8"
            ],
            [
             0.3333333333333333,
             "#9c179e"
            ],
            [
             0.4444444444444444,
             "#bd3786"
            ],
            [
             0.5555555555555556,
             "#d8576b"
            ],
            [
             0.6666666666666666,
             "#ed7953"
            ],
            [
             0.7777777777777778,
             "#fb9f3a"
            ],
            [
             0.8888888888888888,
             "#fdca26"
            ],
            [
             1,
             "#f0f921"
            ]
           ],
           "sequentialminus": [
            [
             0,
             "#0d0887"
            ],
            [
             0.1111111111111111,
             "#46039f"
            ],
            [
             0.2222222222222222,
             "#7201a8"
            ],
            [
             0.3333333333333333,
             "#9c179e"
            ],
            [
             0.4444444444444444,
             "#bd3786"
            ],
            [
             0.5555555555555556,
             "#d8576b"
            ],
            [
             0.6666666666666666,
             "#ed7953"
            ],
            [
             0.7777777777777778,
             "#fb9f3a"
            ],
            [
             0.8888888888888888,
             "#fdca26"
            ],
            [
             1,
             "#f0f921"
            ]
           ]
          },
          "colorway": [
           "#636efa",
           "#EF553B",
           "#00cc96",
           "#ab63fa",
           "#FFA15A",
           "#19d3f3",
           "#FF6692",
           "#B6E880",
           "#FF97FF",
           "#FECB52"
          ],
          "font": {
           "color": "#2a3f5f"
          },
          "geo": {
           "bgcolor": "white",
           "lakecolor": "white",
           "landcolor": "#E5ECF6",
           "showlakes": true,
           "showland": true,
           "subunitcolor": "white"
          },
          "hoverlabel": {
           "align": "left"
          },
          "hovermode": "closest",
          "mapbox": {
           "style": "light"
          },
          "paper_bgcolor": "white",
          "plot_bgcolor": "#E5ECF6",
          "polar": {
           "angularaxis": {
            "gridcolor": "white",
            "linecolor": "white",
            "ticks": ""
           },
           "bgcolor": "#E5ECF6",
           "radialaxis": {
            "gridcolor": "white",
            "linecolor": "white",
            "ticks": ""
           }
          },
          "scene": {
           "xaxis": {
            "backgroundcolor": "#E5ECF6",
            "gridcolor": "white",
            "gridwidth": 2,
            "linecolor": "white",
            "showbackground": true,
            "ticks": "",
            "zerolinecolor": "white"
           },
           "yaxis": {
            "backgroundcolor": "#E5ECF6",
            "gridcolor": "white",
            "gridwidth": 2,
            "linecolor": "white",
            "showbackground": true,
            "ticks": "",
            "zerolinecolor": "white"
           },
           "zaxis": {
            "backgroundcolor": "#E5ECF6",
            "gridcolor": "white",
            "gridwidth": 2,
            "linecolor": "white",
            "showbackground": true,
            "ticks": "",
            "zerolinecolor": "white"
           }
          },
          "shapedefaults": {
           "line": {
            "color": "#2a3f5f"
           }
          },
          "ternary": {
           "aaxis": {
            "gridcolor": "white",
            "linecolor": "white",
            "ticks": ""
           },
           "baxis": {
            "gridcolor": "white",
            "linecolor": "white",
            "ticks": ""
           },
           "bgcolor": "#E5ECF6",
           "caxis": {
            "gridcolor": "white",
            "linecolor": "white",
            "ticks": ""
           }
          },
          "title": {
           "x": 0.05
          },
          "xaxis": {
           "automargin": true,
           "gridcolor": "white",
           "linecolor": "white",
           "ticks": "",
           "title": {
            "standoff": 15
           },
           "zerolinecolor": "white",
           "zerolinewidth": 2
          },
          "yaxis": {
           "automargin": true,
           "gridcolor": "white",
           "linecolor": "white",
           "ticks": "",
           "title": {
            "standoff": 15
           },
           "zerolinecolor": "white",
           "zerolinewidth": 2
          }
         }
        }
       }
      }
     },
     "metadata": {},
     "output_type": "display_data"
    }
   ],
   "source": [
    "data = np.genfromtxt(\"Filtracion VR.csv\", delimiter=\",\")\n",
    "data = data[:40]\n",
    "\n",
    "import plotly.graph_objects as go\n",
    "import numpy as np\n",
    "\n",
    "layout = go.Layout(\n",
    "    scene=dict(xaxis=dict(showbackground=False),\n",
    "               yaxis=dict(showbackground=False),\n",
    "               zaxis=dict(showbackground=False)),\n",
    "    margin=dict(\n",
    "        l=0,\n",
    "        r=0,\n",
    "        b=0,\n",
    "        t=0\n",
    "    )\n",
    ")\n",
    "\n",
    "trace = go.Scatter3d(x=data[:, 0], y=data[:, 1], z=data[:, 2], mode='markers',\n",
    "                     marker=dict(color='black', size=4))\n",
    "\n",
    "fig = go.Figure(data=[trace], layout=layout)\n",
    "\n",
    "fig.show()"
   ]
  },
  {
   "cell_type": "markdown",
   "metadata": {},
   "source": [
    "Es la pata del gato c:"
   ]
  },
  {
   "cell_type": "code",
   "execution_count": 4,
   "metadata": {},
   "outputs": [],
   "source": [
    "def distance(point1, point2, p):\n",
    "    return np.power(np.sum(np.power(np.abs(point1 - point2), p)), 1/p)"
   ]
  },
  {
   "cell_type": "markdown",
   "metadata": {},
   "source": [
    "$$\n",
    "\\left( \\sum_{i=1}^{n} |x_{i} - x_{j}|^p \\right)^{\\frac{1}{p}}\n",
    "$$\n"
   ]
  },
  {
   "cell_type": "code",
   "execution_count": 5,
   "metadata": {},
   "outputs": [],
   "source": [
    "def calculate_distance_matrix(dataset, p):\n",
    "    distance_matrix = np.zeros((dataset.shape[0], dataset.shape[0]))\n",
    "    for i in range(dataset.shape[0]):\n",
    "        for j in range(dataset.shape[0]):\n",
    "            distance_matrix[i, j] = distance(dataset[i], dataset[j], p)\n",
    "    return distance_matrix"
   ]
  },
  {
   "cell_type": "code",
   "execution_count": 6,
   "metadata": {},
   "outputs": [],
   "source": [
    "distance_matrix = calculate_distance_matrix(data, p)"
   ]
  },
  {
   "cell_type": "code",
   "execution_count": 7,
   "metadata": {},
   "outputs": [],
   "source": [
    "def vietoris_rips_filtration(distance_matrix, epsilon):\n",
    "    n = distance_matrix.shape[0]\n",
    "    complex = []\n",
    "\n",
    "    def add_simplex(simplex, max_distance):\n",
    "        complex.append(simplex)\n",
    "        if len(simplex) < n:\n",
    "            for i in range(max(simplex) + 1, n):\n",
    "                new_distance = max(max_distance, distance_matrix[simplex[0], i])\n",
    "                if new_distance <= epsilon:\n",
    "                    add_simplex(simplex + [i], new_distance)\n",
    "\n",
    "    for i in range(n):\n",
    "        add_simplex([i], 0)\n",
    "\n",
    "    return complex"
   ]
  },
  {
   "cell_type": "code",
   "execution_count": 8,
   "metadata": {},
   "outputs": [
    {
     "name": "stdout",
     "output_type": "stream",
     "text": [
      "Epsilon 0.015: [[0], [0, 1], [1], [1, 2], [2], [2, 8], [3], [3, 4], [4], [4, 5], [5], [5, 6], [6], [7], [7, 8], [7, 8, 10], [7, 10], [8], [8, 9], [9], [9, 10], [10], [11], [11, 12], [12], [13], [13, 14], [14], [15], [15, 16], [15, 16, 17], [15, 16, 17, 18], [15, 16, 18], [15, 17], [15, 17, 18], [15, 18], [16], [16, 17], [17], [17, 18], [18], [19], [19, 22], [20], [20, 21], [21], [22], [23], [23, 24], [23, 24, 26], [23, 26], [24], [24, 25], [24, 25, 26], [24, 26], [25], [25, 26], [26], [27], [27, 28], [27, 28, 29], [27, 28, 29, 30], [27, 28, 29, 30, 31], [27, 28, 29, 30, 31, 32], [27, 28, 29, 30, 31, 32, 37], [27, 28, 29, 30, 31, 32, 37, 38], [27, 28, 29, 30, 31, 32, 37, 38, 39], [27, 28, 29, 30, 31, 32, 37, 39], [27, 28, 29, 30, 31, 32, 38], [27, 28, 29, 30, 31, 32, 38, 39], [27, 28, 29, 30, 31, 32, 39], [27, 28, 29, 30, 31, 37], [27, 28, 29, 30, 31, 37, 38], [27, 28, 29, 30, 31, 37, 38, 39], [27, 28, 29, 30, 31, 37, 39], [27, 28, 29, 30, 31, 38], [27, 28, 29, 30, 31, 38, 39], [27, 28, 29, 30, 31, 39], [27, 28, 29, 30, 32], [27, 28, 29, 30, 32, 37], [27, 28, 29, 30, 32, 37, 38], [27, 28, 29, 30, 32, 37, 38, 39], [27, 28, 29, 30, 32, 37, 39], [27, 28, 29, 30, 32, 38], [27, 28, 29, 30, 32, 38, 39], [27, 28, 29, 30, 32, 39], [27, 28, 29, 30, 37], [27, 28, 29, 30, 37, 38], [27, 28, 29, 30, 37, 38, 39], [27, 28, 29, 30, 37, 39], [27, 28, 29, 30, 38], [27, 28, 29, 30, 38, 39], [27, 28, 29, 30, 39], [27, 28, 29, 31], [27, 28, 29, 31, 32], [27, 28, 29, 31, 32, 37], [27, 28, 29, 31, 32, 37, 38], [27, 28, 29, 31, 32, 37, 38, 39], [27, 28, 29, 31, 32, 37, 39], [27, 28, 29, 31, 32, 38], [27, 28, 29, 31, 32, 38, 39], [27, 28, 29, 31, 32, 39], [27, 28, 29, 31, 37], [27, 28, 29, 31, 37, 38], [27, 28, 29, 31, 37, 38, 39], [27, 28, 29, 31, 37, 39], [27, 28, 29, 31, 38], [27, 28, 29, 31, 38, 39], [27, 28, 29, 31, 39], [27, 28, 29, 32], [27, 28, 29, 32, 37], [27, 28, 29, 32, 37, 38], [27, 28, 29, 32, 37, 38, 39], [27, 28, 29, 32, 37, 39], [27, 28, 29, 32, 38], [27, 28, 29, 32, 38, 39], [27, 28, 29, 32, 39], [27, 28, 29, 37], [27, 28, 29, 37, 38], [27, 28, 29, 37, 38, 39], [27, 28, 29, 37, 39], [27, 28, 29, 38], [27, 28, 29, 38, 39], [27, 28, 29, 39], [27, 28, 30], [27, 28, 30, 31], [27, 28, 30, 31, 32], [27, 28, 30, 31, 32, 37], [27, 28, 30, 31, 32, 37, 38], [27, 28, 30, 31, 32, 37, 38, 39], [27, 28, 30, 31, 32, 37, 39], [27, 28, 30, 31, 32, 38], [27, 28, 30, 31, 32, 38, 39], [27, 28, 30, 31, 32, 39], [27, 28, 30, 31, 37], [27, 28, 30, 31, 37, 38], [27, 28, 30, 31, 37, 38, 39], [27, 28, 30, 31, 37, 39], [27, 28, 30, 31, 38], [27, 28, 30, 31, 38, 39], [27, 28, 30, 31, 39], [27, 28, 30, 32], [27, 28, 30, 32, 37], [27, 28, 30, 32, 37, 38], [27, 28, 30, 32, 37, 38, 39], [27, 28, 30, 32, 37, 39], [27, 28, 30, 32, 38], [27, 28, 30, 32, 38, 39], [27, 28, 30, 32, 39], [27, 28, 30, 37], [27, 28, 30, 37, 38], [27, 28, 30, 37, 38, 39], [27, 28, 30, 37, 39], [27, 28, 30, 38], [27, 28, 30, 38, 39], [27, 28, 30, 39], [27, 28, 31], [27, 28, 31, 32], [27, 28, 31, 32, 37], [27, 28, 31, 32, 37, 38], [27, 28, 31, 32, 37, 38, 39], [27, 28, 31, 32, 37, 39], [27, 28, 31, 32, 38], [27, 28, 31, 32, 38, 39], [27, 28, 31, 32, 39], [27, 28, 31, 37], [27, 28, 31, 37, 38], [27, 28, 31, 37, 38, 39], [27, 28, 31, 37, 39], [27, 28, 31, 38], [27, 28, 31, 38, 39], [27, 28, 31, 39], [27, 28, 32], [27, 28, 32, 37], [27, 28, 32, 37, 38], [27, 28, 32, 37, 38, 39], [27, 28, 32, 37, 39], [27, 28, 32, 38], [27, 28, 32, 38, 39], [27, 28, 32, 39], [27, 28, 37], [27, 28, 37, 38], [27, 28, 37, 38, 39], [27, 28, 37, 39], [27, 28, 38], [27, 28, 38, 39], [27, 28, 39], [27, 29], [27, 29, 30], [27, 29, 30, 31], [27, 29, 30, 31, 32], [27, 29, 30, 31, 32, 37], [27, 29, 30, 31, 32, 37, 38], [27, 29, 30, 31, 32, 37, 38, 39], [27, 29, 30, 31, 32, 37, 39], [27, 29, 30, 31, 32, 38], [27, 29, 30, 31, 32, 38, 39], [27, 29, 30, 31, 32, 39], [27, 29, 30, 31, 37], [27, 29, 30, 31, 37, 38], [27, 29, 30, 31, 37, 38, 39], [27, 29, 30, 31, 37, 39], [27, 29, 30, 31, 38], [27, 29, 30, 31, 38, 39], [27, 29, 30, 31, 39], [27, 29, 30, 32], [27, 29, 30, 32, 37], [27, 29, 30, 32, 37, 38], [27, 29, 30, 32, 37, 38, 39], [27, 29, 30, 32, 37, 39], [27, 29, 30, 32, 38], [27, 29, 30, 32, 38, 39], [27, 29, 30, 32, 39], [27, 29, 30, 37], [27, 29, 30, 37, 38], [27, 29, 30, 37, 38, 39], [27, 29, 30, 37, 39], [27, 29, 30, 38], [27, 29, 30, 38, 39], [27, 29, 30, 39], [27, 29, 31], [27, 29, 31, 32], [27, 29, 31, 32, 37], [27, 29, 31, 32, 37, 38], [27, 29, 31, 32, 37, 38, 39], [27, 29, 31, 32, 37, 39], [27, 29, 31, 32, 38], [27, 29, 31, 32, 38, 39], [27, 29, 31, 32, 39], [27, 29, 31, 37], [27, 29, 31, 37, 38], [27, 29, 31, 37, 38, 39], [27, 29, 31, 37, 39], [27, 29, 31, 38], [27, 29, 31, 38, 39], [27, 29, 31, 39], [27, 29, 32], [27, 29, 32, 37], [27, 29, 32, 37, 38], [27, 29, 32, 37, 38, 39], [27, 29, 32, 37, 39], [27, 29, 32, 38], [27, 29, 32, 38, 39], [27, 29, 32, 39], [27, 29, 37], [27, 29, 37, 38], [27, 29, 37, 38, 39], [27, 29, 37, 39], [27, 29, 38], [27, 29, 38, 39], [27, 29, 39], [27, 30], [27, 30, 31], [27, 30, 31, 32], [27, 30, 31, 32, 37], [27, 30, 31, 32, 37, 38], [27, 30, 31, 32, 37, 38, 39], [27, 30, 31, 32, 37, 39], [27, 30, 31, 32, 38], [27, 30, 31, 32, 38, 39], [27, 30, 31, 32, 39], [27, 30, 31, 37], [27, 30, 31, 37, 38], [27, 30, 31, 37, 38, 39], [27, 30, 31, 37, 39], [27, 30, 31, 38], [27, 30, 31, 38, 39], [27, 30, 31, 39], [27, 30, 32], [27, 30, 32, 37], [27, 30, 32, 37, 38], [27, 30, 32, 37, 38, 39], [27, 30, 32, 37, 39], [27, 30, 32, 38], [27, 30, 32, 38, 39], [27, 30, 32, 39], [27, 30, 37], [27, 30, 37, 38], [27, 30, 37, 38, 39], [27, 30, 37, 39], [27, 30, 38], [27, 30, 38, 39], [27, 30, 39], [27, 31], [27, 31, 32], [27, 31, 32, 37], [27, 31, 32, 37, 38], [27, 31, 32, 37, 38, 39], [27, 31, 32, 37, 39], [27, 31, 32, 38], [27, 31, 32, 38, 39], [27, 31, 32, 39], [27, 31, 37], [27, 31, 37, 38], [27, 31, 37, 38, 39], [27, 31, 37, 39], [27, 31, 38], [27, 31, 38, 39], [27, 31, 39], [27, 32], [27, 32, 37], [27, 32, 37, 38], [27, 32, 37, 38, 39], [27, 32, 37, 39], [27, 32, 38], [27, 32, 38, 39], [27, 32, 39], [27, 37], [27, 37, 38], [27, 37, 38, 39], [27, 37, 39], [27, 38], [27, 38, 39], [27, 39], [28], [28, 29], [28, 29, 30], [28, 29, 30, 31], [28, 29, 30, 31, 32], [28, 29, 30, 31, 32, 37], [28, 29, 30, 31, 32, 37, 38], [28, 29, 30, 31, 32, 37, 38, 39], [28, 29, 30, 31, 32, 37, 39], [28, 29, 30, 31, 32, 38], [28, 29, 30, 31, 32, 38, 39], [28, 29, 30, 31, 32, 39], [28, 29, 30, 31, 37], [28, 29, 30, 31, 37, 38], [28, 29, 30, 31, 37, 38, 39], [28, 29, 30, 31, 37, 39], [28, 29, 30, 31, 38], [28, 29, 30, 31, 38, 39], [28, 29, 30, 31, 39], [28, 29, 30, 32], [28, 29, 30, 32, 37], [28, 29, 30, 32, 37, 38], [28, 29, 30, 32, 37, 38, 39], [28, 29, 30, 32, 37, 39], [28, 29, 30, 32, 38], [28, 29, 30, 32, 38, 39], [28, 29, 30, 32, 39], [28, 29, 30, 37], [28, 29, 30, 37, 38], [28, 29, 30, 37, 38, 39], [28, 29, 30, 37, 39], [28, 29, 30, 38], [28, 29, 30, 38, 39], [28, 29, 30, 39], [28, 29, 31], [28, 29, 31, 32], [28, 29, 31, 32, 37], [28, 29, 31, 32, 37, 38], [28, 29, 31, 32, 37, 38, 39], [28, 29, 31, 32, 37, 39], [28, 29, 31, 32, 38], [28, 29, 31, 32, 38, 39], [28, 29, 31, 32, 39], [28, 29, 31, 37], [28, 29, 31, 37, 38], [28, 29, 31, 37, 38, 39], [28, 29, 31, 37, 39], [28, 29, 31, 38], [28, 29, 31, 38, 39], [28, 29, 31, 39], [28, 29, 32], [28, 29, 32, 37], [28, 29, 32, 37, 38], [28, 29, 32, 37, 38, 39], [28, 29, 32, 37, 39], [28, 29, 32, 38], [28, 29, 32, 38, 39], [28, 29, 32, 39], [28, 29, 37], [28, 29, 37, 38], [28, 29, 37, 38, 39], [28, 29, 37, 39], [28, 29, 38], [28, 29, 38, 39], [28, 29, 39], [28, 30], [28, 30, 31], [28, 30, 31, 32], [28, 30, 31, 32, 37], [28, 30, 31, 32, 37, 38], [28, 30, 31, 32, 37, 38, 39], [28, 30, 31, 32, 37, 39], [28, 30, 31, 32, 38], [28, 30, 31, 32, 38, 39], [28, 30, 31, 32, 39], [28, 30, 31, 37], [28, 30, 31, 37, 38], [28, 30, 31, 37, 38, 39], [28, 30, 31, 37, 39], [28, 30, 31, 38], [28, 30, 31, 38, 39], [28, 30, 31, 39], [28, 30, 32], [28, 30, 32, 37], [28, 30, 32, 37, 38], [28, 30, 32, 37, 38, 39], [28, 30, 32, 37, 39], [28, 30, 32, 38], [28, 30, 32, 38, 39], [28, 30, 32, 39], [28, 30, 37], [28, 30, 37, 38], [28, 30, 37, 38, 39], [28, 30, 37, 39], [28, 30, 38], [28, 30, 38, 39], [28, 30, 39], [28, 31], [28, 31, 32], [28, 31, 32, 37], [28, 31, 32, 37, 38], [28, 31, 32, 37, 38, 39], [28, 31, 32, 37, 39], [28, 31, 32, 38], [28, 31, 32, 38, 39], [28, 31, 32, 39], [28, 31, 37], [28, 31, 37, 38], [28, 31, 37, 38, 39], [28, 31, 37, 39], [28, 31, 38], [28, 31, 38, 39], [28, 31, 39], [28, 32], [28, 32, 37], [28, 32, 37, 38], [28, 32, 37, 38, 39], [28, 32, 37, 39], [28, 32, 38], [28, 32, 38, 39], [28, 32, 39], [28, 37], [28, 37, 38], [28, 37, 38, 39], [28, 37, 39], [28, 38], [28, 38, 39], [28, 39], [29], [29, 30], [29, 30, 31], [29, 30, 31, 32], [29, 30, 31, 32, 37], [29, 30, 31, 32, 37, 39], [29, 30, 31, 32, 39], [29, 30, 31, 37], [29, 30, 31, 37, 39], [29, 30, 31, 39], [29, 30, 32], [29, 30, 32, 37], [29, 30, 32, 37, 39], [29, 30, 32, 39], [29, 30, 37], [29, 30, 37, 39], [29, 30, 39], [29, 31], [29, 31, 32], [29, 31, 32, 37], [29, 31, 32, 37, 39], [29, 31, 32, 39], [29, 31, 37], [29, 31, 37, 39], [29, 31, 39], [29, 32], [29, 32, 37], [29, 32, 37, 39], [29, 32, 39], [29, 37], [29, 37, 39], [29, 39], [30], [30, 31], [30, 31, 32], [30, 31, 32, 37], [30, 31, 32, 37, 39], [30, 31, 32, 39], [30, 31, 37], [30, 31, 37, 39], [30, 31, 39], [30, 32], [30, 32, 37], [30, 32, 37, 39], [30, 32, 39], [30, 37], [30, 37, 39], [30, 39], [31], [31, 32], [32], [33], [33, 36], [34], [34, 35], [34, 35, 36], [34, 36], [35], [35, 36], [36], [37], [37, 38], [37, 38, 39], [37, 39], [38], [38, 39], [39]]\n"
     ]
    }
   ],
   "source": [
    "complex = vietoris_rips_filtration(distance_matrix, epsilon)\n",
    "print(f\"Epsilon {epsilon}: {complex}\")"
   ]
  },
  {
   "cell_type": "markdown",
   "metadata": {},
   "source": [
    "# Números de Betti"
   ]
  },
  {
   "cell_type": "code",
   "execution_count": 14,
   "metadata": {},
   "outputs": [
    {
     "name": "stdout",
     "output_type": "stream",
     "text": [
      "Betti 0: 10\n",
      "Betti 1: 1\n",
      "Betti 2: 0\n",
      "Betti 3: 0\n"
     ]
    }
   ],
   "source": [
    "import gudhi as gd\n",
    "\n",
    "def betti_numbers(complex, k):\n",
    "    st = gd.SimplexTree()\n",
    "\n",
    "    for simplex in complex:\n",
    "        st.insert(simplex)\n",
    "\n",
    "    diag = st.persistence()\n",
    "\n",
    "    betti_nums = [0]*(k+1)\n",
    "    for dim, (birth, death) in diag:\n",
    "        if dim <= k:\n",
    "            betti_nums[dim] += 1\n",
    "\n",
    "    return betti_nums\n",
    "\n",
    "betti_nums = betti_numbers(complex=complex, k=3)\n",
    "for i, betti in enumerate(betti_nums):\n",
    "    print(f\"Betti {i}:\", betti)"
   ]
  },
  {
   "cell_type": "markdown",
   "metadata": {},
   "source": [
    "# Diagrama de persistencia"
   ]
  },
  {
   "cell_type": "code",
   "execution_count": 10,
   "metadata": {},
   "outputs": [],
   "source": [
    "from ripser import ripser\n",
    "import matplotlib.pyplot as plt\n",
    "import numpy as np\n",
    "\n",
    "def barcode_homology_persistence(data, title, dimension):\n",
    "    result = ripser(data, maxdim=dimension)\n",
    "    diagrams = result['dgms']\n",
    "    plt.figure(figsize=(7, 7))\n",
    "    plt.suptitle(title)\n",
    "    dgm = diagrams[dimension]\n",
    "    for j, pt in enumerate(dgm):\n",
    "        death = pt[1] if np.isfinite(pt[1]) else np.max(dgm[np.isfinite(dgm[:, 1]), 1]) * 2\n",
    "        plt.plot([pt[0], death], [j, j], '-o')  \n",
    "    plt.tight_layout()\n",
    "    plt.show()"
   ]
  },
  {
   "cell_type": "code",
   "execution_count": 11,
   "metadata": {},
   "outputs": [
    {
     "data": {
      "image/png": "[encoded data removed]",
      "text/plain": [
       "<Figure size 700x700 with 1 Axes>"
      ]
     },
     "metadata": {},
     "output_type": "display_data"
    }
   ],
   "source": [
    "barcode_homology_persistence(data, \"Pata del gato en $H_0$ \", 0)"
   ]
  },
  {
   "cell_type": "code",
   "execution_count": 12,
   "metadata": {},
   "outputs": [
    {
     "data": {
      "image/png": "[encoded data removed]",
      "text/plain": [
       "<Figure size 700x700 with 1 Axes>"
      ]
     },
     "metadata": {},
     "output_type": "display_data"
    }
   ],
   "source": [
    "barcode_homology_persistence(data, \"Pata del gato $H_1$ \", 1)"
   ]
  },
  {
   "cell_type": "code",
   "execution_count": 13,
   "metadata": {},
   "outputs": [
    {
     "data": {
      "text/plain": [
       "<Figure size 700x700 with 0 Axes>"
      ]
     },
     "metadata": {},
     "output_type": "display_data"
    }
   ],
   "source": [
    "barcode_homology_persistence(data, \"Pata del gato en $H_2$ \", 2) ## B_2 = 0"
   ]
  }
 ],
 "metadata": {
  "kernelspec": {
   "display_name": "Python 3",
   "language": "python",
   "name": "python3"
  },
  "language_info": {
   "codemirror_mode": {
    "name": "ipython",
    "version": 3
   },
   "file_extension": ".py",
   "mimetype": "text/x-python",
   "name": "python",
   "nbconvert_exporter": "python",
   "pygments_lexer": "ipython3",
   "version": "3.12.1"
  }
 },
 "nbformat": 4,
 "nbformat_minor": 2
}
